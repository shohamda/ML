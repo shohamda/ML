{
  "nbformat": 4,
  "nbformat_minor": 0,
  "metadata": {
    "celltoolbar": "Create Assignment",
    "colab": {
      "name": "Intro ML 2 - Yuval.ipynb",
      "provenance": [],
      "collapsed_sections": []
    },
    "kernelspec": {
      "display_name": "Python 3",
      "language": "python",
      "name": "python3"
    },
    "language_info": {
      "codemirror_mode": {
        "name": "ipython",
        "version": 3
      },
      "file_extension": ".py",
      "mimetype": "text/x-python",
      "name": "python",
      "nbconvert_exporter": "python",
      "pygments_lexer": "ipython3",
      "version": "3.8.5"
    }
  },
  "cells": [
    {
      "cell_type": "markdown",
      "metadata": {
        "id": "CXcTGuUgDupM",
        "nbgrader": {
          "grade": false,
          "grade_id": "cell-6bd0516e7cb654f5",
          "locked": true,
          "schema_version": 1,
          "solution": false
        }
      },
      "source": [
        "# Exercise 2: Decision Trees\n",
        "\n",
        "In this assignment you will implement a Decision Tree algorithm as learned in class.\n",
        "\n",
        "## Read the following instructions carefully:\n",
        "\n",
        "1. This jupyter notebook contains all the step by step instructions needed for this exercise.\n",
        "1. Submission includes this notebook only with the exercise number and your ID as the filename. For example: `hw2_123456789_987654321.ipynb` if you submitted in pairs and `hw2_123456789.ipynb` if you submitted the exercise alone.\n",
        "1. Write **efficient vectorized** code whenever possible. Some calculations in this exercise take several minutes when implemented efficiently, and might take much longer otherwise. Unnecessary loops will result in point deduction.\n",
        "1. You are responsible for the correctness of your code and should add as many tests as you see fit. Tests will not be graded nor checked.\n",
        "1. Write your functions in this notebook only. **Do not create Python modules and import them**.\n",
        "1. You are allowed to use functions and methods from the [Python Standard Library](https://docs.python.org/3/library/) and [numpy](https://www.numpy.org/devdocs/reference/) only. **Do not import anything else.**\n",
        "1. Your code must run without errors. Make sure your `numpy` version is at least 1.15.4 and that you are using at least python 3.6. Changes of the configuration we provided are at your own risk. Any code that cannot run will not be graded.\n",
        "1. Write your own code. Cheating will not be tolerated.\n",
        "1. Answers to qualitative questions should be written in **markdown** cells (with $\\LaTeX$ support). Answers that will be written in commented code blocks will not be checked.\n",
        "\n",
        "## In this exercise you will perform the following:\n",
        "1. Practice OOP in python.\n",
        "2. Implement two impurity measures: Gini and Entropy.\n",
        "3. Construct a decision tree algorithm.\n",
        "4. Prune the tree to achieve better results.\n",
        "5. Visualize your results."
      ]
    },
    {
      "cell_type": "markdown",
      "metadata": {
        "id": "9SLjAIN-Dupf"
      },
      "source": [
        "# I have read and understood the instructions: *** 204287635 & 209045749 ***"
      ]
    },
    {
      "cell_type": "code",
      "metadata": {
        "id": "SzwUZY5WDuph",
        "nbgrader": {
          "grade": false,
          "grade_id": "cell-ed9fe7b1026e33cb",
          "locked": true,
          "schema_version": 1,
          "solution": false
        }
      },
      "source": [
        "import numpy as np\n",
        "import pandas as pd\n",
        "import matplotlib.pyplot as plt\n",
        "\n",
        "# make matplotlib figures appear inline in the notebook\n",
        "%matplotlib inline\n",
        "plt.rcParams['figure.figsize'] = (10.0, 8.0) # set default size of plots\n",
        "plt.rcParams['image.interpolation'] = 'nearest'\n",
        "plt.rcParams['image.cmap'] = 'gray'\n",
        "\n",
        "# Ignore warnings\n",
        "import warnings\n",
        "warnings.filterwarnings('ignore')"
      ],
      "execution_count": null,
      "outputs": []
    },
    {
      "cell_type": "markdown",
      "metadata": {
        "id": "59Q98-YjDupj",
        "nbgrader": {
          "grade": false,
          "grade_id": "cell-c6ac605270c2b091",
          "locked": true,
          "schema_version": 1,
          "solution": false
        }
      },
      "source": [
        "## Warmup - OOP in python\n",
        "\n",
        "Our desicion tree will be implemented using a dedicated python class. Python classes are very similar to classes in Java.\n",
        "\n",
        "\n",
        "You can use the following [site](https://jeffknupp.com/blog/2014/06/18/improve-your-python-python-classes-and-object-oriented-programming/) to learn about classes in python."
      ]
    },
    {
      "cell_type": "code",
      "metadata": {
        "id": "B96rCAEFDupj"
      },
      "source": [
        "class Node(object):\n",
        "    def __init__(self, data):\n",
        "        self.data = data\n",
        "        self.children = []\n",
        "\n",
        "    def add_child(self, node):\n",
        "        self.children.append(node)"
      ],
      "execution_count": null,
      "outputs": []
    },
    {
      "cell_type": "code",
      "metadata": {
        "colab": {
          "base_uri": "https://localhost:8080/"
        },
        "id": "fPrNgSKaDupk",
        "outputId": "a3196978-5b68-4a98-a6d3-04d47fbdabed"
      },
      "source": [
        "n = Node(5)\n",
        "p = Node(6)\n",
        "q = Node(7)\n",
        "n.add_child(p)\n",
        "n.add_child(q)\n",
        "n.children"
      ],
      "execution_count": null,
      "outputs": [
        {
          "output_type": "execute_result",
          "data": {
            "text/plain": [
              "[<__main__.Node at 0x1c62454cbb0>, <__main__.Node at 0x1c62454cb50>]"
            ]
          },
          "metadata": {
            "tags": []
          },
          "execution_count": 3
        }
      ]
    },
    {
      "cell_type": "markdown",
      "metadata": {
        "id": "XMVbSL9ADupm",
        "nbgrader": {
          "grade": false,
          "grade_id": "cell-2f1ceb251c649b62",
          "locked": true,
          "schema_version": 1,
          "solution": false
        }
      },
      "source": [
        "## Data preprocessing\n",
        "\n",
        "For the following exercise, we will use a dataset containing mushroom data `agaricus-lepiota.csv`. \n",
        "\n",
        "This data set includes descriptions of hypothetical samples corresponding to 23 species of gilled mushrooms in the Agaricus and Lepiota Family. Each species is identified as definitely edible, definitely poisonous, or of unknown edibility and not recommended. This latter class was combined with the poisonous\n",
        "one (=there are only two classes **edible** and **poisonous**). \n",
        "    \n",
        "The dataset contains 8124 observations with 22 features:\n",
        "1. cap-shape: bell=b,conical=c,convex=x,flat=f,knobbed=k,sunken=s\n",
        "2. cap-surface: fibrous=f,grooves=g,scaly=y,smooth=s\n",
        "3. cap-color: brown=n,buff=b,cinnamon=c,gray=g,green=r,pink=p,purple=u,red=e,white=w,yellow=y\n",
        "4. bruises: bruises=t,no=f\n",
        "5. odor: almond=a,anise=l,creosote=c,fishy=y,foul=f, musty=m,none=n,pungent=p,spicy=s\n",
        "6. gill-attachment: attached=a,descending=d,free=f,notched=n\n",
        "7. gill-spacing: close=c,crowded=w,distant=d\n",
        "8. gill-size: broad=b,narrow=n\n",
        "9. gill-color: black=k,brown=n,buff=b,chocolate=h,gray=g,green=r,orange=o,pink=p,purple=u,red=e,white=w,yellow=y\n",
        "10. stalk-shape: enlarging=e,tapering=t\n",
        "11. stalk-root: bulbous=b,club=c,cup=u,equal=e,rhizomorphs=z,rooted=r\n",
        "12. stalk-surface-above-ring: fibrous=f,scaly=y,silky=k,smooth=s\n",
        "13. stalk-surface-below-ring: fibrous=f,scaly=y,silky=k,smooth=s\n",
        "14. stalk-color-above-ring: brown=n,buff=b,cinnamon=c,gray=g,orange=o,pink=p,red=e,white=w,yellow=y\n",
        "15. stalk-color-below-ring: brown=n,buff=b,cinnamon=c,gray=g,orange=o,pink=p,red=e,white=w,yellow=y\n",
        "16. veil-type: partial=p,universal=u\n",
        "17. veil-color: brown=n,orange=o,white=w,yellow=y\n",
        "18. ring-number: none=n,one=o,two=t\n",
        "19. ring-type: cobwebby=c,evanescent=e,flaring=f,large=l,none=n,pendant=p,sheathing=s,zone=z\n",
        "20. spore-print-color: black=k,brown=n,buff=b,chocolate=h,green=r,orange=o,purple=u,white=w,yellow=y\n",
        "21. population: abundant=a,clustered=c,numerous=n,scattered=s,several=v,solitary=y\n",
        "22. habitat: grasses=g,leaves=l,meadows=m,paths=p,urban=u,waste=w,woods=d\n",
        "\n",
        "First, we will read and explore the data using pandas and the `.read_csv` method. Pandas is an open source library providing high-performance, easy-to-use data structures and data analysis tools for the Python programming language."
      ]
    },
    {
      "cell_type": "code",
      "metadata": {
        "id": "i9KXpRX2Dupo",
        "nbgrader": {
          "grade": false,
          "grade_id": "cell-d79cb4542926ad3f",
          "locked": true,
          "schema_version": 1,
          "solution": false
        }
      },
      "source": [
        "# load dataset\n",
        "data = pd.read_csv('agaricus-lepiota.csv')"
      ],
      "execution_count": null,
      "outputs": []
    },
    {
      "cell_type": "markdown",
      "metadata": {
        "id": "gtivfaAaDupp"
      },
      "source": [
        "One of the advantages of the Decision Tree algorithm is that almost no preprocessing is required. However, finding missing values is always required."
      ]
    },
    {
      "cell_type": "code",
      "metadata": {
        "id": "ZAtpeaZaDupq"
      },
      "source": [
        "#############################################################################\n",
        "# TODO: Find the columns with missing values and remove them from the data.#\n",
        "#############################################################################\n",
        "data_columns = data.columns.values.tolist()\n",
        "columns_to_remove = []\n",
        "for col in data_columns:\n",
        "    if (data[col].dropna().empty):\n",
        "        columns_to_remove.append(col)\n",
        "data = data.drop(columns = columns_to_remove)\n",
        "pass\n",
        "#############################################################################\n",
        "#                             END OF YOUR CODE                              #\n",
        "#############################################################################"
      ],
      "execution_count": null,
      "outputs": []
    },
    {
      "cell_type": "markdown",
      "metadata": {
        "id": "eyNJKtFyDups"
      },
      "source": [
        "We will split the dataset to `Training` and `Testing` datasets."
      ]
    },
    {
      "cell_type": "code",
      "metadata": {
        "id": "tPaAd6daDupt",
        "outputId": "56190090-cc30-4b73-9fb1-66b4c9b638eb"
      },
      "source": [
        "from sklearn.model_selection import train_test_split\n",
        "# Making sure the last column will hold the labels\n",
        "X, y = data.drop('class', axis=1), data['class']\n",
        "X = np.column_stack([X,y])\n",
        "# split dataset using random_state to get the same split each time\n",
        "X_train, X_test = train_test_split(X, random_state=99)\n",
        "\n",
        "print(\"Training dataset shape: \", X_train.shape)\n",
        "print(\"Testing dataset shape: \", X_test.shape)"
      ],
      "execution_count": null,
      "outputs": [
        {
          "output_type": "stream",
          "text": [
            "Training dataset shape:  (6093, 22)\n",
            "Testing dataset shape:  (2031, 22)\n"
          ],
          "name": "stdout"
        }
      ]
    },
    {
      "cell_type": "code",
      "metadata": {
        "id": "ZS-oYnWWDupu",
        "outputId": "5727212f-bf85-4dc9-a3cd-e01ac9bf92e9"
      },
      "source": [
        "y.shape"
      ],
      "execution_count": null,
      "outputs": [
        {
          "output_type": "execute_result",
          "data": {
            "text/plain": [
              "(8124,)"
            ]
          },
          "metadata": {
            "tags": []
          },
          "execution_count": 7
        }
      ]
    },
    {
      "cell_type": "markdown",
      "metadata": {
        "id": "XUQMbBVHDupv",
        "nbgrader": {
          "grade": false,
          "grade_id": "cell-fd7b0191f3f1e897",
          "locked": true,
          "schema_version": 1,
          "solution": false
        }
      },
      "source": [
        "## Impurity Measures\n",
        "\n",
        "Impurity is a measure of how often a randomly chosen element from the set would be incorrectly labeled if it was randomly labeled according to the distribution of labels in the subset. Implement the functions `calc_gini` and `calc_entropy`. You are encouraged to test your implementation (10 points)."
      ]
    },
    {
      "cell_type": "code",
      "metadata": {
        "id": "pAHuwA0FDupv"
      },
      "source": [
        "def calc_gini(data):\n",
        "    \"\"\"\n",
        "    Calculate gini impurity measure of a dataset.\n",
        " \n",
        "    Input:\n",
        "    - data: any dataset where the last column holds the labels.\n",
        " \n",
        "    Returns the gini impurity.    \n",
        "    \"\"\"\n",
        "    gini = 0.0\n",
        "    ###########################################################################\n",
        "    # TODO: Implement the function.                                           #\n",
        "    ###########################################################################\n",
        "    labels = np.unique(data[:, -1])\n",
        "    gini = 1.0\n",
        "    for label in labels:\n",
        "        gini -= (np.count_nonzero(data[:, -1] == label) / data.shape[0]) ** 2\n",
        "    pass\n",
        "    ###########################################################################\n",
        "    #                             END OF YOUR CODE                            #\n",
        "    ###########################################################################\n",
        "    return gini"
      ],
      "execution_count": null,
      "outputs": []
    },
    {
      "cell_type": "code",
      "metadata": {
        "id": "XKj2-O_3Dupw"
      },
      "source": [
        "def calc_entropy(data):\n",
        "    \"\"\"\n",
        "    Calculate the entropy of a dataset.\n",
        "\n",
        "    Input:\n",
        "    - data: any dataset where the last column holds the labels.\n",
        "\n",
        "    Returns the entropy of the dataset.    \n",
        "    \"\"\"\n",
        "    entropy = 0.0\n",
        "    ###########################################################################\n",
        "    # TODO: Implement the function.                                           #\n",
        "    ###########################################################################\n",
        "    labels = np.unique(data[:, -1])\n",
        "    for label in labels:\n",
        "        entropy -= (np.count_nonzero(data[:, -1] == label) / data.shape[0]) * np.log2(np.count_nonzero(data[:, -1] == label) / data.shape[0])\n",
        "    pass\n",
        "    ###########################################################################\n",
        "    #                             END OF YOUR CODE                            #\n",
        "    ###########################################################################\n",
        "    return entropy"
      ],
      "execution_count": null,
      "outputs": []
    },
    {
      "cell_type": "code",
      "metadata": {
        "id": "3rvpV2knDupw",
        "scrolled": true,
        "outputId": "7992bf49-5c4c-40fc-d243-f1c6a192195b"
      },
      "source": [
        "##### Your Tests Here #####\n",
        "calc_gini(X), calc_entropy(X)"
      ],
      "execution_count": null,
      "outputs": [
        {
          "output_type": "execute_result",
          "data": {
            "text/plain": [
              "(0.49956363223797745, 0.9993703627906085)"
            ]
          },
          "metadata": {
            "tags": []
          },
          "execution_count": 10
        }
      ]
    },
    {
      "cell_type": "markdown",
      "metadata": {
        "id": "23yvbpAWDupx"
      },
      "source": [
        "## Goodness of Split\n",
        "\n",
        "Given a feature the Goodnees of Split measures the reduction in the impurity if we split the data according to the feature.\n",
        "$$\n",
        "\\Delta\\varphi(S, A) = \\varphi(S) - \\sum_{v\\in Values(A)} \\frac{|S_v|}{|S|}\\varphi(S_v)\n",
        "$$\n",
        "\n",
        "In our implementation the goodness_of_split function will return either the Goodness of Split or the Gain Ratio as learned in class. You'll control the return value with the `gain_ratio` parameter. If this parameter will set to False (the default value) it will return the regular Goodness of Split. If it will set to True it will return the Gain Ratio.\n",
        "$$\n",
        "GainRatio(S,A)=\\frac{InformationGain(S,A)}{SplitInformation(S,A)}\n",
        "$$\n",
        "Where:\n",
        "$$\n",
        "InformationGain(S,A)=Goodness\\ of\\ Split\\ calculated\\ with\\ Entropy\\ as\\ the\\ Impurity\\ function \\\\\n",
        "SplitInformation(S,A)=- \\sum_{a\\in A} \\frac{|S_a|}{|S|}\\log\\frac{|S_a|}{|S|}\n",
        "$$\n",
        "NOTE: you can add more parameters to the function and you can also add more returning variables (The given parameters and the given returning variable should not be touch). (10 Points)"
      ]
    },
    {
      "cell_type": "code",
      "metadata": {
        "id": "kt7XjAg1Dupx"
      },
      "source": [
        "def goodness_of_split(data, feature, impurity_func, gain_ratio=False):\n",
        "    \"\"\"\n",
        "    Calculate the goodness of split of a dataset given a feature and impurity function.\n",
        "\n",
        "    Input:\n",
        "    - data: any dataset where the last column holds the labels.\n",
        "    - feature: the feature index.\n",
        "    - impurity func: a function that calculates the impurity.\n",
        "    - gain_ratio: goodness of split or gain ratio flag.\n",
        "\n",
        "    Returns the goodness of split (or the Gain Ration).  \n",
        "    \"\"\"\n",
        "    ###########################################################################\n",
        "    # TODO: Implement the function.                                           #\n",
        "    ###########################################################################\n",
        "    values = np.unique(data[:, feature])\n",
        "    if (gain_ratio == True):\n",
        "        impurity_func = calc_entropy\n",
        "    goodness = impurity_func(data)\n",
        "    for value in values:\n",
        "        sub_data = []\n",
        "        for row in data:\n",
        "            if (row[feature] == value):\n",
        "                sub_data.append(row)\n",
        "        goodness -= ((np.count_nonzero(data[:, feature] == value) / data.shape[0]) * impurity_func(np.array(sub_data)))\n",
        "    if (gain_ratio == True):\n",
        "        split_info = 0.0\n",
        "        for value in values:\n",
        "            split_info -= ((np.count_nonzero(data[:, feature] == value) / data.shape[0]) * np.log2(np.count_nonzero(data[:, feature] == value) / data.shape[0]))\n",
        "        return (goodness / split_info)\n",
        "    pass\n",
        "    ###########################################################################\n",
        "    #                             END OF YOUR CODE                            #\n",
        "    ###########################################################################\n",
        "    return goodness    "
      ],
      "execution_count": null,
      "outputs": []
    },
    {
      "cell_type": "markdown",
      "metadata": {
        "id": "ef56EkDMDupy"
      },
      "source": [
        "## Building a Decision Tree\n",
        "\n",
        "Use a Python class to construct the decision tree. Your class should support the following functionality:\n",
        "\n",
        "1. Initiating a node for a decision tree. You will need to use several class methods and class attributes and you are free to use them as you see fit. We recommend that every node will hold the feature and value used for the split and its children.\n",
        "2. Your code should support both Gini and Entropy as impurity measures. \n",
        "3. The provided data includes categorical data. In this exercise, when splitting a node create the number of children needed according to the attribute unique values.\n",
        "\n",
        "Complete the class `DecisionNode`. The structure of this class is entirely up to you. \n",
        "\n",
        "Complete the function `build_tree`. This function should get the training dataset and the impurity as inputs, initiate a root for the decision tree and construct the tree according to the procedure you learned in class. (30 points)"
      ]
    },
    {
      "cell_type": "code",
      "metadata": {
        "id": "6g14EP-cDupy"
      },
      "source": [
        "class DecisionNode:\n",
        "    \"\"\"\n",
        "    This class will hold everything you require to construct a decision tree.\n",
        "    The structure of this class is up to you. However, you need to support basic \n",
        "    functionality as described above. It is highly recommended that you \n",
        "    first read and understand the entire exercise before diving into this class.\n",
        "    \"\"\"\n",
        "    def __init__(self, feature, pred = None):\n",
        "        self.feature = feature # column index of criteria being tested\n",
        "        self.children = [] # list of children\n",
        "        self.pred = pred # prediction of label\n",
        "        self.features_values = {} # dictionary of all parents feature indexes and values\n",
        "        self.labels_counts = [] # Relevant only for leaves\n",
        "        \n",
        "    def add_child(self, node, feature_value):\n",
        "        feature_values_so_far = self.features_values.copy()\n",
        "        feature_values_so_far[self.feature] = feature_value\n",
        "        node.features_values = feature_values_so_far\n",
        "        self.children.append((node, feature_value))\n",
        "        \n",
        "    def add_label_count(self, label, count):\n",
        "        self.labels_counts.append((label, count))\n",
        "        \n",
        "    def is_leaf(self):\n",
        "        if(len(self.children) == 0):\n",
        "            return True\n",
        "        else:\n",
        "            return False\n",
        "    \n",
        "    def tree_depth(self):\n",
        "        depth = 0\n",
        "        if self == None:\n",
        "            return 0\n",
        "        else:\n",
        "            for child in self.children:\n",
        "                child_depth = child[0].tree_depth()\n",
        "                if(child_depth > depth):\n",
        "                    depth = child_depth\n",
        "        return depth + 1\n",
        "    \n",
        "    def children_count(self):\n",
        "        return len(self.children)\n",
        "    \n",
        "    def set_pred(self, data):\n",
        "        sub_data = []\n",
        "        for row in data:\n",
        "            flag = True\n",
        "            for feature in self.features_values.keys():\n",
        "                if (row[feature] != self.features_values[feature]):\n",
        "                    flag = False\n",
        "                    break\n",
        "            if (flag == True):\n",
        "                sub_data.append(row)\n",
        "        classes, counts = np.unique((np.array(sub_data))[:, -1], return_counts = True)\n",
        "        maxcount = np.argmax(counts)\n",
        "        maxclass = classes[maxcount]\n",
        "        self.pred = maxclass"
      ],
      "execution_count": null,
      "outputs": []
    },
    {
      "cell_type": "code",
      "metadata": {
        "id": "jNAyswn3Dupz"
      },
      "source": [
        "def build_tree(data, impurity, gain_ratio=False, chi=1, max_depth=1000):\n",
        "    \"\"\"\n",
        "    Build a tree using the given impurity measure and training dataset. \n",
        "    You are required to fully grow the tree until all leaves are pure. \n",
        "\n",
        "    Input:\n",
        "    - data: the training dataset.\n",
        "    - impurity: the chosen impurity measure. Notice that you can send a function\n",
        "                as an argument in python.\n",
        "    - gain_ratio: goodness of split or gain ratio flag\n",
        "    - chi: chi square p-value cut off (1 means no pruning)\n",
        "    - max_depth: the allowable depth of the tree\n",
        "\n",
        "    Output: the root node of the tree.\n",
        "    \"\"\"\n",
        "    root = None\n",
        "    ###########################################################################\n",
        "    # TODO: Implement the function.                                           #\n",
        "    ###########################################################################\n",
        "    unused_features = []\n",
        "    for i in range(0, data.shape[1] - 1):\n",
        "        unused_features.append(i)\n",
        "    root = build_tree_recursion(data, impurity, root, 0, unused_features, gain_ratio, chi, chi_table, max_depth)\n",
        "    pass\n",
        "    ###########################################################################\n",
        "    #                             END OF YOUR CODE                            #\n",
        "    ###########################################################################\n",
        "    return root"
      ],
      "execution_count": null,
      "outputs": []
    },
    {
      "cell_type": "code",
      "metadata": {
        "id": "W0wKCitJDup0"
      },
      "source": [
        "def build_tree_recursion(data, impurity, root, depth, unused_features, gain_ratio, chi, chi_table, max_depth):\n",
        "    my_unused_features = list(unused_features)\n",
        "    if(depth == max_depth):\n",
        "        return None\n",
        "    \n",
        "    classes, counts = np.unique(data[:, -1], return_counts = True)\n",
        "    \n",
        "    if(classes.shape[0] == 1): # Node is monochromatic, no need to proceed build\n",
        "        root = DecisionNode(None, classes[0])\n",
        "        root.add_label_count(classes[0], counts[0])\n",
        "        return root\n",
        "\n",
        "    if(len(my_unused_features) == 0): # All attributes have been used, Node isn't monochromatic\n",
        "        maxcount = np.argmax(counts)\n",
        "        maxclass = classes[maxcount]\n",
        "        root = DecisionNode(None, maxclass)\n",
        "        for i in range(0, classes.shape[0]):\n",
        "            root.add_label_count(classes[i], counts[i])\n",
        "        return root\n",
        "    \n",
        "    goodness_dict = {}\n",
        "    for feature in my_unused_features: # Find \"best\" question\n",
        "        goodness_dict[feature] = goodness_of_split(data, feature, impurity, gain_ratio)\n",
        "    max_goodness_feature = max(goodness_dict, key = goodness_dict.get)\n",
        "    if(goodness_dict[max_goodness_feature] == 0):  # If all the gains are 0 we need to stop, as mentioned in Piazza\n",
        "        maxcount = np.argmax(counts)\n",
        "        maxclass = classes[maxcount]\n",
        "        root = DecisionNode(None, maxclass)\n",
        "        for i in range(0, classes.shape[0]):\n",
        "            root.add_label_count(classes[i], counts[i])\n",
        "        return root\n",
        "    else:\n",
        "        root = DecisionNode(max_goodness_feature) \n",
        "        values, counts_values = np.unique(data[:, max_goodness_feature], return_counts = True) # Find number of children\n",
        "        \n",
        "        if(chi != 1): # Chi pruning\n",
        "            probs = []\n",
        "            for i in range(0, classes.shape[0]):\n",
        "                probs.append((counts[i] / np.sum(counts))) # Distribution of each class in our node\n",
        "            p, n, E = [], [], []\n",
        "            for value in range(0, values.shape[0]):\n",
        "                p_count = 0\n",
        "                n_count = 0\n",
        "                for instance in range(0, data.shape[0]):\n",
        "                    if(data[instance, max_goodness_feature] == values[value]):\n",
        "                        if(data[instance, -1] == classes[0]):\n",
        "                            p_count = p_count + 1\n",
        "                        if(data[instance, -1] == classes[1]):\n",
        "                            n_count = n_count + 1\n",
        "                p.append(p_count)\n",
        "                n.append(n_count)\n",
        "                current_E = []\n",
        "                for i in range(0, classes.shape[0]):\n",
        "                    current_E.append(counts_values[value] * probs[i])\n",
        "                E.append(current_E)\n",
        "            chi_square = 0.0\n",
        "            for value in range(0, values.shape[0]):\n",
        "                chi_square = chi_square + (((p[value] - E[value][0]) ** 2) / E[value][0]) + (((n[value] - E[value][1]) ** 2) / E[value][1])\n",
        "            if(chi_square < chi_table[values.shape[0] - 1][chi]): # We need to make the node a leaf\n",
        "                maxcount = np.argmax(counts)\n",
        "                maxclass = classes[maxcount]\n",
        "                root.pred = maxclass\n",
        "                for i in range(0, classes.shape[0]):\n",
        "                    root.add_label_count(classes[i], counts[i])\n",
        "                return root\n",
        "        \n",
        "        my_unused_features.remove(max_goodness_feature)\n",
        "        for value in values:\n",
        "            selector = [row for row in range(0, data.shape[0]) if data[row, max_goodness_feature] == value]\n",
        "            child = build_tree_recursion(data[selector, :], impurity, None, depth + 1, my_unused_features, gain_ratio, chi, chi_table, max_depth) # Keep building the tree\n",
        "            if(child != None): # When pruning the tree we interrupt the building, so we need to make the node a leaf\n",
        "                root.add_child(child, value)\n",
        "            else:\n",
        "                maxcount = np.argmax(counts)\n",
        "                maxclass = classes[maxcount]\n",
        "                root.pred = maxclass\n",
        "                root.feature = None\n",
        "                for i in range(0, classes.shape[0]):\n",
        "                    root.add_label_count(classes[i], counts[i])\n",
        "    return root"
      ],
      "execution_count": null,
      "outputs": []
    },
    {
      "cell_type": "code",
      "metadata": {
        "id": "nnI5XRzVDup2"
      },
      "source": [
        "# python supports passing a function as an argument to another function.\n",
        "tree_gini = build_tree(data = X_train, impurity = calc_gini) # gini and goodness of split\n",
        "tree_entropy = build_tree(data = X_train, impurity = calc_entropy) # entropy and goodness of split\n",
        "tree_entropy_gain_ratio = build_tree(data = X_train, impurity = calc_entropy, gain_ratio = True) # entropy and gain ratio"
      ],
      "execution_count": null,
      "outputs": []
    },
    {
      "cell_type": "markdown",
      "metadata": {
        "id": "9oAUf9V4Dup3"
      },
      "source": [
        "## Tree evaluation\n",
        "\n",
        "Complete the functions `predict` and `calc_accuracy`. (10 points)"
      ]
    },
    {
      "cell_type": "code",
      "metadata": {
        "id": "dhkD8rThDup4"
      },
      "source": [
        "def predict(node, instance):\n",
        "    \"\"\"\n",
        "    Predict a given instance using the decision tree\n",
        " \n",
        "    Input:\n",
        "    - root: the root of the decision tree.\n",
        "    - instance: an row vector from the dataset. Note that the last element \n",
        "                of this vector is the label of the instance.\n",
        " \n",
        "    Output: the prediction of the instance.\n",
        "    \"\"\"\n",
        "    pred = None\n",
        "    ###########################################################################\n",
        "    # TODO: Implement the function.                                           #\n",
        "    ###########################################################################\n",
        "    for child in node.children:\n",
        "        if child[1] == instance[node.feature]:\n",
        "            return predict(child[0], instance)\n",
        "    pass\n",
        "    ###########################################################################\n",
        "    #                             END OF YOUR CODE                            #\n",
        "    ###########################################################################\n",
        "    return node.pred"
      ],
      "execution_count": null,
      "outputs": []
    },
    {
      "cell_type": "code",
      "metadata": {
        "id": "-Qyo6mufDup4"
      },
      "source": [
        "def calc_accuracy(node, dataset):\n",
        "    \"\"\"\n",
        "    Predict a given dataset using the decision tree\n",
        " \n",
        "    Input:\n",
        "    - node: a node in the decision tree.\n",
        "    - dataset: the dataset on which the accuracy is evaluated\n",
        " \n",
        "    Output: the accuracy of the decision tree on the given dataset (%).\n",
        "    \"\"\"\n",
        "    accuracy = 0\n",
        "    ###########################################################################\n",
        "    # TODO: Implement the function.                                           #\n",
        "    ###########################################################################\n",
        "    for instance in dataset:\n",
        "        if (predict(node, instance) == instance[-1]):\n",
        "            accuracy += 1\n",
        "    accuracy /= dataset.shape[0]\n",
        "    accuracy *= 100\n",
        "    pass\n",
        "    ###########################################################################\n",
        "    #                             END OF YOUR CODE                            #\n",
        "    ###########################################################################\n",
        "    return accuracy "
      ],
      "execution_count": null,
      "outputs": []
    },
    {
      "cell_type": "markdown",
      "metadata": {
        "id": "WremhoMyDup5"
      },
      "source": [
        "After building the three trees using the training set, you should calculate the accuracy on the test set. For each tree print the training and test accuracy. Select the tree that gave you the best test accuracy. For the rest of the exercise, use that tree (when you asked to build another tree use the same impurity function and same gain_ratio flag). "
      ]
    },
    {
      "cell_type": "code",
      "metadata": {
        "id": "8mK1E0sXDup5",
        "outputId": "807fb626-961b-46c1-e366-d48361eff8ba"
      },
      "source": [
        "#### Your code here ####\n",
        "acc_gini_goodness_train = calc_accuracy(tree_gini, X_train) #gini and goodness of split TrainSet accuracy\n",
        "acc_gini_goodness_test = calc_accuracy(tree_gini, X_test) #gini and goodness of split TestSet accuracy\n",
        "acc_entropy_goodness_train = calc_accuracy(tree_entropy, X_train) #entropy and goodness of split TrainSet accuracy\n",
        "acc_entropy_goodness_test = calc_accuracy(tree_entropy, X_test) #entropy and goodness of split TestSet accuracy\n",
        "acc_entropy_gain_train = calc_accuracy(tree_entropy_gain_ratio, X_train) #entropy and gain ratio TrainSet accuracy\n",
        "acc_entropy_gain_test = calc_accuracy(tree_entropy_gain_ratio, X_test) #entropy and gain ratio TestSet accuracy\n",
        "\n",
        "print(\"gini and goodness of split TrainSet accuracy: \", acc_gini_goodness_train)\n",
        "print(\"gini and goodness of split TestSet accuracy: \", acc_gini_goodness_test)\n",
        "print(\"entropy and goodness of split TrainSet accuracy: \", acc_entropy_goodness_train)\n",
        "print(\"entropy and goodness of split TestSet accuracy: \", acc_entropy_goodness_test)\n",
        "print(\"entropy and gain ratio TrainSet accuracy: \", acc_entropy_gain_train)\n",
        "print(\"entropy and gain ratio TestSet accuracy: \", acc_entropy_gain_test)\n",
        "\n",
        "best_accuracy = acc_gini_goodness_test\n",
        "best_impurity = calc_gini\n",
        "best_gain_ratio = False\n",
        "best_tree = \"gini and goodness of split\"\n",
        "if (acc_entropy_goodness_test > best_accuracy):\n",
        "    best_accuracy = acc_entropy_goodness_test\n",
        "    best_impurity = calc_entropy\n",
        "    best_gain_ratio = False\n",
        "    best_tree = \"entropy and goodness of split\"\n",
        "if (acc_entropy_gain_test > best_accuracy):\n",
        "    best_accuracy = acc_entropy_gain_test\n",
        "    best_impurity = calc_entropy\n",
        "    best_gain_ratio = True\n",
        "    best_tree_description = \"entropy and gain ratio\"\n",
        "\n",
        "print(\"best tree is:\", best_tree)"
      ],
      "execution_count": null,
      "outputs": [
        {
          "output_type": "stream",
          "text": [
            "gini and goodness of split TrainSet accuracy:  99.24503528639423\n",
            "gini and goodness of split TestSet accuracy:  76.80945347119645\n",
            "entropy and goodness of split TrainSet accuracy:  99.40915805022156\n",
            "entropy and goodness of split TestSet accuracy:  76.31708517971443\n",
            "entropy and gain ratio TrainSet accuracy:  99.63892991957984\n",
            "entropy and gain ratio TestSet accuracy:  75.03692762186115\n",
            "best tree is: gini and goodness of split\n"
          ],
          "name": "stdout"
        }
      ]
    },
    {
      "cell_type": "markdown",
      "metadata": {
        "id": "FpkxBqSgDup7"
      },
      "source": [
        "## Post pruning\n",
        "\n",
        "Iterate over all nodes in the tree that have at least a single child which is a leaf. For each such node, replace it with its most popular class. Calculate the accuracy on the testing dataset, pick the node that results in the highest testing accuracy and permanently change it in the tree. Repeat this process until you are left with a single node in the tree (the root). Finally, create a plot of the training and testing accuracies as a function of the number of nodes in the tree. (15 points)"
      ]
    },
    {
      "cell_type": "code",
      "metadata": {
        "id": "WOcanVXdDup8"
      },
      "source": [
        "#### Your code here ####\n",
        "from copy import copy, deepcopy\n",
        "\n",
        "def post_pruning(root, train, test):\n",
        "    train_acc_array = [calc_accuracy(root, train)]\n",
        "    test_acc_array = [calc_accuracy(root, test)]\n",
        "    nodes = [count_nodes(root)]\n",
        "    best_acc_tree = 0\n",
        "    best_tree = None\n",
        "    curr_acc_tree = 0    \n",
        "    \n",
        "    while(root.children):\n",
        "        \n",
        "        best_acc = -1\n",
        "        best_parent = None\n",
        "        \n",
        "        # an array with all the nodes that have at least one children that is a leaf.\n",
        "        parents = parent_check(root)\n",
        "        \n",
        "        for parent in parents:\n",
        "            # saving the parents children\n",
        "            tmp_childrens = []\n",
        "            for child in parent.children:\n",
        "                tmp_childrens.append(child)\n",
        "    \n",
        "            # making the node to be the the most popular class\n",
        "            parent.set_pred(train)\n",
        "            \n",
        "            # deleting the parents children from the tree\n",
        "            parent.children = []\n",
        "\n",
        "            # calculating the tree accuracy with out the parent            \n",
        "            curr_test_acc = calc_accuracy(root, test)\n",
        "            \n",
        "            # checking if the current split that I deleted was the best one to delete up until now.\n",
        "            if (curr_test_acc > best_acc):\n",
        "                best_acc = curr_test_acc\n",
        "                best_parent = parent \n",
        "                \n",
        "            # returning the childrens value and the parent class.\n",
        "            for child in tmp_childrens:\n",
        "                parent.children.append(child)\n",
        "            parent.pred = None\n",
        "                \n",
        "            nodes_sum = count_nodes(root)\n",
        "\n",
        "        # deletes the nodes that provide the best accuracy and turns their parent to a leaf.\n",
        "        curr_acc_tree = calc_accuracy(root, test)\n",
        "        if curr_acc_tree > best_acc_tree:\n",
        "            best_acc_tree = curr_acc_tree \n",
        "            best_tree = deepcopy(root)\n",
        "            \n",
        "        best_parent.children = []\n",
        "        best_parent.set_pred(train)\n",
        "        \n",
        "        # updating the arrays that need to be returned\n",
        "        nodes.append(nodes_sum)\n",
        "        test_acc_array.append(best_acc)\n",
        "        train_acc = calc_accuracy(root, train)\n",
        "        train_acc_array.append(train_acc)\n",
        "        \n",
        "    return (best_tree ,nodes, train_acc_array, test_acc_array)\n",
        "\n",
        "def count_nodes(node):\n",
        "    if(node.children_count() == 0):\n",
        "        return 1\n",
        "    nodes = 1\n",
        "    for child in node.children:\n",
        "        nodes = nodes + count_nodes(child[0])\n",
        "    return nodes\n",
        "\n",
        "def parent_check(node):\n",
        "    array = []\n",
        "    queue = [node]\n",
        "    \n",
        "    while(len(queue)>0):\n",
        "        curr_node = queue.pop(0)\n",
        "        flag_child = 0\n",
        "        \n",
        "        for child in curr_node.children:\n",
        "            if child[0].children_count() == 0:\n",
        "                if flag_child == 0:\n",
        "                    array.append(curr_node)\n",
        "                    flag_child = 1\n",
        "            else:\n",
        "                queue.append(child[0])        \n",
        "    return array"
      ],
      "execution_count": null,
      "outputs": []
    },
    {
      "cell_type": "code",
      "metadata": {
        "id": "qAox84SGDup9",
        "outputId": "1a449d7c-374d-4074-ff3d-cb35915b8158"
      },
      "source": [
        "train_tree = build_tree(data = X_train, impurity = best_impurity, gain_ratio = best_gain_ratio)\n",
        "best_post_purning_tree, num_of_nodes, training, testing = post_pruning(train_tree, X_train, X_test)\n",
        "\n",
        "plt.plot(num_of_nodes, training, 'r--')\n",
        "plt.plot(num_of_nodes, testing,'b--')\n",
        "\n",
        "plt.xlabel('number of nodes')\n",
        "plt.ylabel('accuracy')\n",
        "plt.title('accuracy as a function of the number of nodes')\n",
        "plt.legend(['training data', 'testing data'])\n",
        "plt.show()"
      ],
      "execution_count": null,
      "outputs": [
        {
          "output_type": "display_data",
          "data": {
            "image/png": "[encoded data removed]",
            "text/plain": [
              "<Figure size 720x576 with 1 Axes>"
            ]
          },
          "metadata": {
            "tags": [],
            "needs_background": "light"
          }
        }
      ]
    },
    {
      "cell_type": "markdown",
      "metadata": {
        "id": "H0ni-5TPDup-"
      },
      "source": [
        "## Chi square pre-pruning\n",
        "\n",
        "Consider the following p-value cut-off values: [1 (no pruning), 0.5, 0.25, 0.1, 0.05, 0.0001 (max pruning)]. For each value, construct a tree and prune it according to the cut-off value. Next, calculate the training and testing accuracy. On a single plot, draw the training and testing accuracy as a function of the tuple (p-value, tree depth). Mark the best result on the graph with red circle. (15 points)"
      ]
    },
    {
      "cell_type": "code",
      "metadata": {
        "id": "TLdw_spXDup-"
      },
      "source": [
        "### Chi square table values ###\n",
        "# The first key is the degree of freedom \n",
        "# The second key is the p-value cut-off\n",
        "# The values are the chi-statistic that you need to use in the pruning\n",
        "chi_table = {1: {0.5 : 0.45,\n",
        "                 0.25 : 1.32,\n",
        "                 0.1 : 2.71,\n",
        "                 0.05 : 3.84,\n",
        "                 0.0001 : 100000},\n",
        "             2: {0.5 : 1.39,\n",
        "                 0.25 : 2.77,\n",
        "                 0.1 : 4.60,\n",
        "                 0.05 : 5.99,\n",
        "                 0.0001 : 100000},\n",
        "             3: {0.5 : 2.37,\n",
        "                 0.25 : 4.11,\n",
        "                 0.1 : 6.25,\n",
        "                 0.05 : 7.82,\n",
        "                 0.0001 : 100000},\n",
        "             4: {0.5 : 3.36,\n",
        "                 0.25 : 5.38,\n",
        "                 0.1 : 7.78,\n",
        "                 0.05 : 9.49,\n",
        "                 0.0001 : 100000},\n",
        "             5: {0.5 : 4.35,\n",
        "                 0.25 : 6.63,\n",
        "                 0.1 : 9.24,\n",
        "                 0.05 : 11.07,\n",
        "                 0.0001 : 100000},\n",
        "             6: {0.5 : 5.35,\n",
        "                 0.25 : 7.84,\n",
        "                 0.1 : 10.64,\n",
        "                 0.05 : 12.59,\n",
        "                 0.0001 : 100000},\n",
        "             7: {0.5 : 6.35,\n",
        "                 0.25 : 9.04,\n",
        "                 0.1 : 12.01,\n",
        "                 0.05 : 14.07,\n",
        "                 0.0001 : 100000},\n",
        "             8: {0.5 : 7.34,\n",
        "                 0.25 : 10.22,\n",
        "                 0.1 : 13.36,\n",
        "                 0.05 : 15.51,\n",
        "                 0.0001 : 100000},\n",
        "             9: {0.5 : 8.34,\n",
        "                 0.25 : 11.39,\n",
        "                 0.1 : 14.68,\n",
        "                 0.05 : 16.92,\n",
        "                 0.0001 : 100000},\n",
        "             10: {0.5 : 9.34,\n",
        "                  0.25 : 12.55,\n",
        "                  0.1 : 15.99,\n",
        "                  0.05 : 18.31,\n",
        "                  0.0001 : 100000},\n",
        "             11: {0.5 : 10.34,\n",
        "                  0.25 : 13.7,\n",
        "                  0.1 : 17.27,\n",
        "                  0.05 : 19.68,\n",
        "                  0.0001 : 100000}}"
      ],
      "execution_count": null,
      "outputs": []
    },
    {
      "cell_type": "code",
      "metadata": {
        "id": "w_y553Q3Dup_",
        "outputId": "348ee256-75c6-4e2e-a02a-85034bbe0799"
      },
      "source": [
        "#### Your code here ####\n",
        "from matplotlib.patches import Ellipse\n",
        "\n",
        "training_accuracy = []\n",
        "testing_accuracy = []\n",
        "tuples = []\n",
        "p_values = [1, 0.5, 0.25, 0.1, 0.05, 0.0001]\n",
        "for p_value in p_values:\n",
        "    tree = build_tree(X_train, impurity = best_impurity, gain_ratio = best_gain_ratio, chi = p_value)\n",
        "    training_accuracy.append(calc_accuracy(tree, X_train))\n",
        "    testing_accuracy.append(calc_accuracy(tree, X_test))\n",
        "    tree_depth = str(tree.tree_depth())\n",
        "    p = str(p_value)\n",
        "    str_tuple = p + \", \" + tree_depth \n",
        "    tuples.append(str_tuple)\n",
        "tuples.reverse()\n",
        "training_accuracy.reverse()\n",
        "testing_accuracy.reverse()\n",
        "best_value_chi = max(testing_accuracy)\n",
        "best_index_chi = np.argmax(testing_accuracy) + 1\n",
        "plt.figure(figsize=(7, 7))\n",
        "plt.plot(tuples, training_accuracy, marker='o')\n",
        "plt.ylabel('accuracy')\n",
        "plt.xlabel('(p_value, depth)')\n",
        "plt.plot(tuples, testing_accuracy, marker='o')\n",
        "circle = Ellipse((best_index_chi, best_value_chi), width = 0.2, height = 2, color = 'red', fill = False)\n",
        "plt.gcf().gca().add_artist(circle)\n",
        "plt.legend(['training', 'testing'])"
      ],
      "execution_count": null,
      "outputs": [
        {
          "output_type": "execute_result",
          "data": {
            "text/plain": [
              "<matplotlib.legend.Legend at 0x1c62a2d5f10>"
            ]
          },
          "metadata": {
            "tags": []
          },
          "execution_count": 24
        },
        {
          "output_type": "display_data",
          "data": {
            "image/png": "[encoded data removed]",
            "text/plain": [
              "<Figure size 504x504 with 1 Axes>"
            ]
          },
          "metadata": {
            "tags": [],
            "needs_background": "light"
          }
        }
      ]
    },
    {
      "cell_type": "markdown",
      "metadata": {
        "id": "bqxNtpapDup_"
      },
      "source": [
        "Build the best 2 trees:\n",
        "1. tree_max_depth - the best tree according to max_depth pruning\n",
        "1. tree_chi - the best tree according to chi square pruning"
      ]
    },
    {
      "cell_type": "code",
      "metadata": {
        "id": "qh7y6ZUeDup_"
      },
      "source": [
        "#### Your code here ####\n",
        "tree_post_pruning = best_post_purning_tree\n",
        "tree_chi = build_tree(X_train, impurity = best_impurity, gain_ratio = best_gain_ratio, chi = p_values[len(p_values) - best_index_chi])"
      ],
      "execution_count": null,
      "outputs": []
    },
    {
      "cell_type": "markdown",
      "metadata": {
        "id": "dbmonj2JDuqA"
      },
      "source": [
        "## Number of Nodes\n",
        "\n",
        "Of the two trees above we will choose the one with fewer nodes. Complete the function counts_nodes and print the number of nodes in each tree. (5 points) "
      ]
    },
    {
      "cell_type": "code",
      "metadata": {
        "id": "sqb2f-CMDuqA",
        "outputId": "6bb08823-a264-456b-b1bf-75b336a73833"
      },
      "source": [
        "def count_nodes(node):\n",
        "    \"\"\"\n",
        "    Count the number of node in a given tree\n",
        " \n",
        "    Input:\n",
        "    - node: a node in the decision tree.\n",
        " \n",
        "    Output: the number of node in the tree.\n",
        "    \"\"\"\n",
        "    ###########################################################################\n",
        "    # TODO: Implement the function.                                           #\n",
        "    ###########################################################################\n",
        "    if(node.children_count() == 0):\n",
        "        return 1\n",
        "    nodes = 1\n",
        "    for child in node.children:\n",
        "        nodes = nodes + count_nodes(child[0])\n",
        "    return nodes\n",
        "\n",
        "node_num_dict = {}\n",
        "node_num_dict[tree_post_pruning] = count_nodes(tree_post_pruning)\n",
        "node_num_dict[tree_chi] = count_nodes(tree_chi)\n",
        "print(\"Post pruning number of nodes: \", node_num_dict[tree_post_pruning])\n",
        "print(\"Chi square pruning number of nodes: \", node_num_dict[tree_chi])\n",
        "chosen_tree = min(node_num_dict.keys(), key = (lambda k: node_num_dict[k]))\n",
        "    ###########################################################################\n",
        "    #                             END OF YOUR CODE                            #\n",
        "    ###########################################################################\n",
        "    "
      ],
      "execution_count": null,
      "outputs": [
        {
          "output_type": "stream",
          "text": [
            "Post pruning number of nodes:  274\n",
            "Chi square pruning number of nodes:  48\n"
          ],
          "name": "stdout"
        }
      ]
    },
    {
      "cell_type": "markdown",
      "metadata": {
        "id": "OKxP9WzgDuqA"
      },
      "source": [
        "## Print the tree\n",
        "\n",
        "Complete the function `print_tree` and execute it on your chosen tree. Your tree should be visualized clearly. You can use the following example as a reference:\n",
        "```\n",
        "[ROOT, feature=X0],\n",
        "  [X0=a, feature=X2]\n",
        "    [X2=c, leaf]: [{1.0: 10}]\n",
        "    [X2=d, leaf]: [{0.0: 10}]\n",
        "  [X0=y, feature=X5], \n",
        "    [X5=a, leaf]: [{1.0: 5}]\n",
        "    [X5=s, leaf]: [{0.0: 10}]\n",
        "  [X0=e, leaf]: [{0.0: 25, 1.0: 50}]\n",
        "```\n",
        "In each brackets:\n",
        "* The first argument is the parent feature with the value that led to current node\n",
        "* The second argument is the selected feature of the current node\n",
        "* If the current node is a leaf, you need to print also the labels and their counts\n",
        "\n",
        "(5 points)"
      ]
    },
    {
      "cell_type": "code",
      "metadata": {
        "id": "WqgXzdjEDuqB",
        "outputId": "b1ab8679-e22c-4272-a7c0-a74541d2e85e"
      },
      "source": [
        "# you can change the function signeture\n",
        "def print_tree(node, depth=0, parent_feature='ROOT', feature_val='ROOT'):\n",
        "    '''\n",
        "    prints the tree according to the example above\n",
        "\n",
        "    Input:\n",
        "    - node: a node in the decision tree\n",
        "\n",
        "    This function has no return value\n",
        "    '''\n",
        "    ###########################################################################\n",
        "    # TODO: Implement the function.                                           #\n",
        "    ###########################################################################\n",
        "    if (parent_feature == 'ROOT'):\n",
        "        print(\"[ROOT, feature=X{}],\".format(node.feature))\n",
        "    elif (node.is_leaf() == False):\n",
        "        print(\"{}[X{}={}, feature=X{}],\".format(print_indentation(depth), parent_feature, feature_val, node.feature))\n",
        "    elif (len(node.labels_counts) == 1):\n",
        "        print(\"{}[X{}={}, leaf]: [{{{}: {}}}]\".format(print_indentation(depth), parent_feature, feature_val, node.labels_counts[0][0], node.labels_counts[0][1]))\n",
        "        return\n",
        "    else:\n",
        "        print(\"{}[X{}={}, leaf]: [{{{}: {}, {}: {}}}]\".format(print_indentation(depth), parent_feature, feature_val, node.labels_counts[0][0], node.labels_counts[0][1], node.labels_counts[1][0], node.labels_counts[1][1]))\n",
        "        return\n",
        "    for child in node.children:\n",
        "        print_tree(child[0], depth + 1, node.feature, child[1])\n",
        "\n",
        "def print_indentation(depth): # Help function to print indentation according to the example\n",
        "    if (depth == 0):\n",
        "        return \"\"\n",
        "    else:\n",
        "        indent = \" \"\n",
        "        for i in range(0, depth - 1):\n",
        "            indent = indent + \" \"\n",
        "    return indent + indent\n",
        "\n",
        "print_tree(chosen_tree)\n",
        "    ###########################################################################\n",
        "    #                             END OF YOUR CODE                            #\n",
        "    ###########################################################################"
      ],
      "execution_count": null,
      "outputs": [
        {
          "output_type": "stream",
          "text": [
            "[ROOT, feature=X4],\n",
            "  [X4=a, leaf]: [{e: 273, p: 31}]\n",
            "  [X4=c, leaf]: [{e: 10, p: 137}]\n",
            "  [X4=f, feature=X10],\n",
            "    [X10=f, leaf]: [{e: 14, p: 91}]\n",
            "    [X10=k, leaf]: [{e: 134, p: 1037}]\n",
            "    [X10=s, leaf]: [{e: 22, p: 310}]\n",
            "  [X4=l, feature=X1],\n",
            "    [X1=f, leaf]: [{e: 19, p: 1}]\n",
            "    [X1=s, leaf]: [{e: 94, p: 16}]\n",
            "    [X1=y, leaf]: [{e: 159, p: 10}]\n",
            "  [X4=m, leaf]: [{e: 2, p: 25}]\n",
            "  [X4=n, feature=X18],\n",
            "    [X18=b, leaf]: [{e: 34, p: 2}]\n",
            "    [X18=h, feature=X2],\n",
            "      [X2=r, leaf]: [{e: 9, p: 4}]\n",
            "      [X2=u, leaf]: [{e: 14}]\n",
            "      [X2=w, leaf]: [{e: 12, p: 1}]\n",
            "    [X18=k, leaf]: [{e: 875, p: 96}]\n",
            "    [X18=n, leaf]: [{e: 916, p: 110}]\n",
            "    [X18=o, feature=X19],\n",
            "      [X19=c, leaf]: [{e: 12, p: 4}]\n",
            "      [X19=v, leaf]: [{e: 16}]\n",
            "    [X18=r, leaf]: [{e: 6, p: 46}]\n",
            "    [X18=w, feature=X20],\n",
            "      [X20=d, feature=X7],\n",
            "        [X7=b, leaf]: [{e: 6, p: 2}]\n",
            "        [X7=n, leaf]: [{p: 25}]\n",
            "      [X20=g, leaf]: [{e: 204, p: 19}]\n",
            "      [X20=l, feature=X2],\n",
            "        [X2=c, leaf]: [{e: 19, p: 1}]\n",
            "        [X2=n, leaf]: [{e: 15, p: 4}]\n",
            "        [X2=w, leaf]: [{p: 8}]\n",
            "        [X2=y, leaf]: [{p: 7}]\n",
            "      [X20=p, leaf]: [{e: 29, p: 1}]\n",
            "      [X20=w, feature=X13],\n",
            "        [X13=e, leaf]: [{e: 62, p: 9}]\n",
            "        [X13=w, leaf]: [{e: 68, p: 2}]\n",
            "    [X18=y, leaf]: [{e: 35, p: 3}]\n",
            "  [X4=p, feature=X0],\n",
            "    [X0=f, leaf]: [{e: 7, p: 86}]\n",
            "    [X0=x, leaf]: [{e: 1, p: 89}]\n",
            "  [X4=s, feature=X13],\n",
            "    [X13=p, leaf]: [{e: 12, p: 190}]\n",
            "    [X13=w, feature=X12],\n",
            "      [X12=p, leaf]: [{e: 18, p: 88}]\n",
            "      [X12=w, leaf]: [{e: 8, p: 102}]\n",
            "  [X4=y, leaf]: [{e: 49, p: 382}]\n"
          ],
          "name": "stdout"
        }
      ]
    }
  ]
}
