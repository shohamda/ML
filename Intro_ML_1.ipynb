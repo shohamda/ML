{
  "nbformat": 4,
  "nbformat_minor": 0,
  "metadata": {
    "celltoolbar": "Create Assignment",
    "colab": {
      "name": "Intro ML 1.ipynb",
      "provenance": []
    },
    "kernelspec": {
      "display_name": "Python 3",
      "language": "python",
      "name": "python3"
    },
    "language_info": {
      "codemirror_mode": {
        "name": "ipython",
        "version": 3
      },
      "file_extension": ".py",
      "mimetype": "text/x-python",
      "name": "python",
      "nbconvert_exporter": "python",
      "pygments_lexer": "ipython3",
      "version": "3.8.5"
    }
  },
  "cells": [
    {
      "cell_type": "markdown",
      "metadata": {
        "id": "lfuSaQMpD3Qs",
        "nbgrader": {
          "grade": false,
          "grade_id": "cell-35def0d0f4b47a0a",
          "locked": true,
          "schema_version": 1,
          "solution": false
        }
      },
      "source": [
        "# Exercise 1: Linear Regression\n",
        "\n",
        "### This notebook is executed automatically. Failing to meet any of the submission requirements will results in a 25 point fine or your submission not being graded at all. Kindly reminder: the homework assignments grade is 50% of the final grade. \n",
        "\n",
        "### Do not start the exercise until you fully understand the submission guidelines.\n",
        "\n",
        "## Read the following instructions carefully:\n",
        "\n",
        "1. This jupyter notebook contains all the step by step instructions needed for this exercise.\n",
        "1. Submission includes this notebook only with the exercise number and your ID as the filename. For example: `hw1_123456789_987654321.ipynb` if you submitted in pairs and `hw1_123456789.ipynb` if you submitted the exercise alone.\n",
        "1. Write **efficient vectorized** code whenever possible. Some calculations in this exercise take several minutes when implemented efficiently, and might take much longer otherwise. Unnecessary loops will result in point deduction.\n",
        "1. You are responsible for the correctness of your code and should add as many tests as you see fit. Tests will not be graded nor checked.\n",
        "1. Write your functions in this notebook only. **Do not create Python modules and import them**.\n",
        "1. You are allowed to use functions and methods from the [Python Standard Library](https://docs.python.org/3/library/) and [numpy](https://www.numpy.org/devdocs/reference/) only. **Do not import anything else.**\n",
        "1. Your code must run without errors. Make sure your `numpy` version is at least 1.15.4 and that you are using at least python 3.6. Changes of the configuration we provided are at your own risk. Any code that cannot run will not be graded.\n",
        "1. Write your own code. Cheating will not be tolerated.\n",
        "1. Answers to qualitative questions should be written in **markdown** cells (with $\\LaTeX$ support). Answers that will be written in commented code blocks will not be checked.\n",
        "\n",
        "## In this exercise you will perform the following:\n",
        "1. Load a dataset and perform basic data exploration using a powerful data science library called [pandas](https://pandas.pydata.org/pandas-docs/stable/).\n",
        "1. Preprocess the data for linear regression.\n",
        "1. Compute the cost and perform gradient descent in pure numpy in vectorized form.\n",
        "1. Fit a linear regression model using a single feature.\n",
        "1. Visualize your results using matplotlib.\n",
        "1. Perform multivariate linear regression.\n",
        "1. Pick the best features in the dataset.\n",
        "1. Experiment with adaptive learning rates."
      ]
    },
    {
      "cell_type": "markdown",
      "metadata": {
        "id": "DjsALrLXD3Qu"
      },
      "source": [
        "## I have read and understood the instructions: *** 204287635 & 209045749***"
      ]
    },
    {
      "cell_type": "code",
      "metadata": {
        "id": "cUeQ8b4PD3Qu",
        "nbgrader": {
          "grade": false,
          "grade_id": "cell-5ed0076cec86f623",
          "locked": true,
          "schema_version": 1,
          "solution": false
        }
      },
      "source": [
        "import numpy as np # used for scientific computing\n",
        "import pandas as pd # used for data analysis and manipulation\n",
        "import matplotlib.pyplot as plt # used for visualization and plotting\n",
        "\n",
        "np.random.seed(42) \n",
        "\n",
        "# make matplotlib figures appear inline in the notebook\n",
        "%matplotlib inline\n",
        "plt.rcParams['figure.figsize'] = (14.0, 8.0) # set default size of plots\n",
        "plt.rcParams['image.interpolation'] = 'nearest'\n",
        "plt.rcParams['image.cmap'] = 'gray'"
      ],
      "execution_count": null,
      "outputs": []
    },
    {
      "cell_type": "markdown",
      "metadata": {
        "id": "WKY5UzFDD3Qu",
        "nbgrader": {
          "grade": false,
          "grade_id": "cell-916f46de8cde2ca7",
          "locked": true,
          "schema_version": 1,
          "solution": false
        }
      },
      "source": [
        "## Part 1: Data Preprocessing (10 Points)\n",
        "\n",
        "For the following exercise, we will use a dataset containing housing prices in King County, USA. The dataset contains 5,000 observations with 18 features and a single target value - the house price. \n",
        "\n",
        "First, we will read and explore the data using pandas and the `.read_csv` method. Pandas is an open source library providing high-performance, easy-to-use data structures and data analysis tools for the Python programming language."
      ]
    },
    {
      "cell_type": "code",
      "metadata": {
        "id": "ncP1DiX7D3Qv",
        "nbgrader": {
          "grade": false,
          "grade_id": "cell-9ef8b2769c2c1949",
          "locked": true,
          "schema_version": 1,
          "solution": false
        }
      },
      "source": [
        "# Read comma separated data\n",
        "df = pd.read_csv('data.csv') # Make sure this cell runs regardless of your absolute path.\n",
        "# df stands for dataframe, which is the default format for datasets in pandas"
      ],
      "execution_count": null,
      "outputs": []
    },
    {
      "cell_type": "markdown",
      "metadata": {
        "id": "MIrnSGKXD3Qv",
        "nbgrader": {
          "grade": false,
          "grade_id": "cell-6966afc155aa6616",
          "locked": true,
          "schema_version": 1,
          "solution": false
        }
      },
      "source": [
        "### Data Exploration\n",
        "A good practice in any data-oriented project is to first try and understand the data. Fortunately, pandas is built for that purpose. Start by looking at the top of the dataset using the `df.head()` command. This will be the first indication that you read your data properly, and that the headers are correct. Next, you can use `df.describe()` to show statistics on the data and check for trends and irregularities."
      ]
    },
    {
      "cell_type": "code",
      "metadata": {
        "id": "SNoAlqL4D3Qv",
        "outputId": "4f28143f-9f71-4143-dffd-38b7466cca0f"
      },
      "source": [
        "df.head(5)"
      ],
      "execution_count": null,
      "outputs": [
        {
          "output_type": "execute_result",
          "data": {
            "text/html": [
              "<div>\n",
              "<style scoped>\n",
              "    .dataframe tbody tr th:only-of-type {\n",
              "        vertical-align: middle;\n",
              "    }\n",
              "\n",
              "    .dataframe tbody tr th {\n",
              "        vertical-align: top;\n",
              "    }\n",
              "\n",
              "    .dataframe thead th {\n",
              "        text-align: right;\n",
              "    }\n",
              "</style>\n",
              "<table border=\"1\" class=\"dataframe\">\n",
              "  <thead>\n",
              "    <tr style=\"text-align: right;\">\n",
              "      <th></th>\n",
              "      <th>id</th>\n",
              "      <th>date</th>\n",
              "      <th>price</th>\n",
              "      <th>bedrooms</th>\n",
              "      <th>bathrooms</th>\n",
              "      <th>sqft_living</th>\n",
              "      <th>sqft_lot</th>\n",
              "      <th>floors</th>\n",
              "      <th>waterfront</th>\n",
              "      <th>view</th>\n",
              "      <th>condition</th>\n",
              "      <th>grade</th>\n",
              "      <th>sqft_above</th>\n",
              "      <th>yr_built</th>\n",
              "      <th>yr_renovated</th>\n",
              "      <th>zipcode</th>\n",
              "      <th>lat</th>\n",
              "      <th>long</th>\n",
              "      <th>sqft_living15</th>\n",
              "      <th>sqft_lot15</th>\n",
              "    </tr>\n",
              "  </thead>\n",
              "  <tbody>\n",
              "    <tr>\n",
              "      <th>0</th>\n",
              "      <td>7129300520</td>\n",
              "      <td>20141013T000000</td>\n",
              "      <td>221900.0</td>\n",
              "      <td>3</td>\n",
              "      <td>1.00</td>\n",
              "      <td>1180</td>\n",
              "      <td>5650</td>\n",
              "      <td>1.0</td>\n",
              "      <td>0</td>\n",
              "      <td>0</td>\n",
              "      <td>3</td>\n",
              "      <td>7</td>\n",
              "      <td>1180</td>\n",
              "      <td>1955</td>\n",
              "      <td>0</td>\n",
              "      <td>98178</td>\n",
              "      <td>47.5112</td>\n",
              "      <td>-122.257</td>\n",
              "      <td>1340</td>\n",
              "      <td>5650</td>\n",
              "    </tr>\n",
              "    <tr>\n",
              "      <th>1</th>\n",
              "      <td>6414100192</td>\n",
              "      <td>20141209T000000</td>\n",
              "      <td>538000.0</td>\n",
              "      <td>3</td>\n",
              "      <td>2.25</td>\n",
              "      <td>2570</td>\n",
              "      <td>7242</td>\n",
              "      <td>2.0</td>\n",
              "      <td>0</td>\n",
              "      <td>0</td>\n",
              "      <td>3</td>\n",
              "      <td>7</td>\n",
              "      <td>2170</td>\n",
              "      <td>1951</td>\n",
              "      <td>1991</td>\n",
              "      <td>98125</td>\n",
              "      <td>47.7210</td>\n",
              "      <td>-122.319</td>\n",
              "      <td>1690</td>\n",
              "      <td>7639</td>\n",
              "    </tr>\n",
              "    <tr>\n",
              "      <th>2</th>\n",
              "      <td>5631500400</td>\n",
              "      <td>20150225T000000</td>\n",
              "      <td>180000.0</td>\n",
              "      <td>2</td>\n",
              "      <td>1.00</td>\n",
              "      <td>770</td>\n",
              "      <td>10000</td>\n",
              "      <td>1.0</td>\n",
              "      <td>0</td>\n",
              "      <td>0</td>\n",
              "      <td>3</td>\n",
              "      <td>6</td>\n",
              "      <td>770</td>\n",
              "      <td>1933</td>\n",
              "      <td>0</td>\n",
              "      <td>98028</td>\n",
              "      <td>47.7379</td>\n",
              "      <td>-122.233</td>\n",
              "      <td>2720</td>\n",
              "      <td>8062</td>\n",
              "    </tr>\n",
              "    <tr>\n",
              "      <th>3</th>\n",
              "      <td>2487200875</td>\n",
              "      <td>20141209T000000</td>\n",
              "      <td>604000.0</td>\n",
              "      <td>4</td>\n",
              "      <td>3.00</td>\n",
              "      <td>1960</td>\n",
              "      <td>5000</td>\n",
              "      <td>1.0</td>\n",
              "      <td>0</td>\n",
              "      <td>0</td>\n",
              "      <td>5</td>\n",
              "      <td>7</td>\n",
              "      <td>1050</td>\n",
              "      <td>1965</td>\n",
              "      <td>0</td>\n",
              "      <td>98136</td>\n",
              "      <td>47.5208</td>\n",
              "      <td>-122.393</td>\n",
              "      <td>1360</td>\n",
              "      <td>5000</td>\n",
              "    </tr>\n",
              "    <tr>\n",
              "      <th>4</th>\n",
              "      <td>1954400510</td>\n",
              "      <td>20150218T000000</td>\n",
              "      <td>510000.0</td>\n",
              "      <td>3</td>\n",
              "      <td>2.00</td>\n",
              "      <td>1680</td>\n",
              "      <td>8080</td>\n",
              "      <td>1.0</td>\n",
              "      <td>0</td>\n",
              "      <td>0</td>\n",
              "      <td>3</td>\n",
              "      <td>8</td>\n",
              "      <td>1680</td>\n",
              "      <td>1987</td>\n",
              "      <td>0</td>\n",
              "      <td>98074</td>\n",
              "      <td>47.6168</td>\n",
              "      <td>-122.045</td>\n",
              "      <td>1800</td>\n",
              "      <td>7503</td>\n",
              "    </tr>\n",
              "  </tbody>\n",
              "</table>\n",
              "</div>"
            ],
            "text/plain": [
              "           id             date     price  bedrooms  bathrooms  sqft_living  \\\n",
              "0  7129300520  20141013T000000  221900.0         3       1.00         1180   \n",
              "1  6414100192  20141209T000000  538000.0         3       2.25         2570   \n",
              "2  5631500400  20150225T000000  180000.0         2       1.00          770   \n",
              "3  2487200875  20141209T000000  604000.0         4       3.00         1960   \n",
              "4  1954400510  20150218T000000  510000.0         3       2.00         1680   \n",
              "\n",
              "   sqft_lot  floors  waterfront  view  condition  grade  sqft_above  yr_built  \\\n",
              "0      5650     1.0           0     0          3      7        1180      1955   \n",
              "1      7242     2.0           0     0          3      7        2170      1951   \n",
              "2     10000     1.0           0     0          3      6         770      1933   \n",
              "3      5000     1.0           0     0          5      7        1050      1965   \n",
              "4      8080     1.0           0     0          3      8        1680      1987   \n",
              "\n",
              "   yr_renovated  zipcode      lat     long  sqft_living15  sqft_lot15  \n",
              "0             0    98178  47.5112 -122.257           1340        5650  \n",
              "1          1991    98125  47.7210 -122.319           1690        7639  \n",
              "2             0    98028  47.7379 -122.233           2720        8062  \n",
              "3             0    98136  47.5208 -122.393           1360        5000  \n",
              "4             0    98074  47.6168 -122.045           1800        7503  "
            ]
          },
          "metadata": {
            "tags": []
          },
          "execution_count": 3
        }
      ]
    },
    {
      "cell_type": "code",
      "metadata": {
        "id": "Ba0DN2DkD3Qv",
        "nbgrader": {
          "grade": true,
          "grade_id": "cell-5bd0d6844b64ea1a",
          "locked": false,
          "points": 1,
          "schema_version": 1,
          "solution": true
        },
        "outputId": "38754388-c10d-4449-bc84-1472b066c756"
      },
      "source": [
        "df.describe()"
      ],
      "execution_count": null,
      "outputs": [
        {
          "output_type": "execute_result",
          "data": {
            "text/html": [
              "<div>\n",
              "<style scoped>\n",
              "    .dataframe tbody tr th:only-of-type {\n",
              "        vertical-align: middle;\n",
              "    }\n",
              "\n",
              "    .dataframe tbody tr th {\n",
              "        vertical-align: top;\n",
              "    }\n",
              "\n",
              "    .dataframe thead th {\n",
              "        text-align: right;\n",
              "    }\n",
              "</style>\n",
              "<table border=\"1\" class=\"dataframe\">\n",
              "  <thead>\n",
              "    <tr style=\"text-align: right;\">\n",
              "      <th></th>\n",
              "      <th>id</th>\n",
              "      <th>price</th>\n",
              "      <th>bedrooms</th>\n",
              "      <th>bathrooms</th>\n",
              "      <th>sqft_living</th>\n",
              "      <th>sqft_lot</th>\n",
              "      <th>floors</th>\n",
              "      <th>waterfront</th>\n",
              "      <th>view</th>\n",
              "      <th>condition</th>\n",
              "      <th>grade</th>\n",
              "      <th>sqft_above</th>\n",
              "      <th>yr_built</th>\n",
              "      <th>yr_renovated</th>\n",
              "      <th>zipcode</th>\n",
              "      <th>lat</th>\n",
              "      <th>long</th>\n",
              "      <th>sqft_living15</th>\n",
              "      <th>sqft_lot15</th>\n",
              "    </tr>\n",
              "  </thead>\n",
              "  <tbody>\n",
              "    <tr>\n",
              "      <th>count</th>\n",
              "      <td>5.000000e+03</td>\n",
              "      <td>5.000000e+03</td>\n",
              "      <td>5000.0000</td>\n",
              "      <td>5000.000000</td>\n",
              "      <td>5000.000000</td>\n",
              "      <td>5.000000e+03</td>\n",
              "      <td>5000.000000</td>\n",
              "      <td>5000.000000</td>\n",
              "      <td>5000.000000</td>\n",
              "      <td>5000.000000</td>\n",
              "      <td>5000.000000</td>\n",
              "      <td>5000.000000</td>\n",
              "      <td>5000.000000</td>\n",
              "      <td>5000.000000</td>\n",
              "      <td>5000.000000</td>\n",
              "      <td>5000.000000</td>\n",
              "      <td>5000.000000</td>\n",
              "      <td>5000.00000</td>\n",
              "      <td>5000.000000</td>\n",
              "    </tr>\n",
              "    <tr>\n",
              "      <th>mean</th>\n",
              "      <td>4.630823e+09</td>\n",
              "      <td>5.394699e+05</td>\n",
              "      <td>3.3714</td>\n",
              "      <td>2.062150</td>\n",
              "      <td>2061.036800</td>\n",
              "      <td>1.615893e+04</td>\n",
              "      <td>1.432600</td>\n",
              "      <td>0.009400</td>\n",
              "      <td>0.243000</td>\n",
              "      <td>3.455000</td>\n",
              "      <td>7.595200</td>\n",
              "      <td>1753.151000</td>\n",
              "      <td>1966.660800</td>\n",
              "      <td>95.052800</td>\n",
              "      <td>98078.812600</td>\n",
              "      <td>47.559312</td>\n",
              "      <td>-122.215864</td>\n",
              "      <td>1976.84520</td>\n",
              "      <td>13451.164600</td>\n",
              "    </tr>\n",
              "    <tr>\n",
              "      <th>std</th>\n",
              "      <td>2.870890e+09</td>\n",
              "      <td>3.873115e+05</td>\n",
              "      <td>0.9104</td>\n",
              "      <td>0.773592</td>\n",
              "      <td>923.727509</td>\n",
              "      <td>4.600220e+04</td>\n",
              "      <td>0.510793</td>\n",
              "      <td>0.096506</td>\n",
              "      <td>0.774643</td>\n",
              "      <td>0.677692</td>\n",
              "      <td>1.166537</td>\n",
              "      <td>818.390844</td>\n",
              "      <td>28.286855</td>\n",
              "      <td>425.234932</td>\n",
              "      <td>54.126332</td>\n",
              "      <td>0.139521</td>\n",
              "      <td>0.141807</td>\n",
              "      <td>674.73601</td>\n",
              "      <td>26514.749009</td>\n",
              "    </tr>\n",
              "    <tr>\n",
              "      <th>min</th>\n",
              "      <td>1.000102e+06</td>\n",
              "      <td>7.500000e+04</td>\n",
              "      <td>0.0000</td>\n",
              "      <td>0.000000</td>\n",
              "      <td>380.000000</td>\n",
              "      <td>6.090000e+02</td>\n",
              "      <td>1.000000</td>\n",
              "      <td>0.000000</td>\n",
              "      <td>0.000000</td>\n",
              "      <td>1.000000</td>\n",
              "      <td>3.000000</td>\n",
              "      <td>380.000000</td>\n",
              "      <td>1900.000000</td>\n",
              "      <td>0.000000</td>\n",
              "      <td>98001.000000</td>\n",
              "      <td>47.155900</td>\n",
              "      <td>-122.514000</td>\n",
              "      <td>620.00000</td>\n",
              "      <td>660.000000</td>\n",
              "    </tr>\n",
              "    <tr>\n",
              "      <th>25%</th>\n",
              "      <td>2.154075e+09</td>\n",
              "      <td>3.179062e+05</td>\n",
              "      <td>3.0000</td>\n",
              "      <td>1.500000</td>\n",
              "      <td>1410.000000</td>\n",
              "      <td>5.400000e+03</td>\n",
              "      <td>1.000000</td>\n",
              "      <td>0.000000</td>\n",
              "      <td>0.000000</td>\n",
              "      <td>3.000000</td>\n",
              "      <td>7.000000</td>\n",
              "      <td>1190.000000</td>\n",
              "      <td>1949.000000</td>\n",
              "      <td>0.000000</td>\n",
              "      <td>98033.000000</td>\n",
              "      <td>47.463675</td>\n",
              "      <td>-122.329000</td>\n",
              "      <td>1490.00000</td>\n",
              "      <td>5391.500000</td>\n",
              "    </tr>\n",
              "    <tr>\n",
              "      <th>50%</th>\n",
              "      <td>4.022900e+09</td>\n",
              "      <td>4.490000e+05</td>\n",
              "      <td>3.0000</td>\n",
              "      <td>2.000000</td>\n",
              "      <td>1890.000000</td>\n",
              "      <td>7.875000e+03</td>\n",
              "      <td>1.000000</td>\n",
              "      <td>0.000000</td>\n",
              "      <td>0.000000</td>\n",
              "      <td>3.000000</td>\n",
              "      <td>7.000000</td>\n",
              "      <td>1530.000000</td>\n",
              "      <td>1968.000000</td>\n",
              "      <td>0.000000</td>\n",
              "      <td>98070.000000</td>\n",
              "      <td>47.572850</td>\n",
              "      <td>-122.235000</td>\n",
              "      <td>1820.00000</td>\n",
              "      <td>7800.000000</td>\n",
              "    </tr>\n",
              "    <tr>\n",
              "      <th>75%</th>\n",
              "      <td>7.345078e+09</td>\n",
              "      <td>6.500000e+05</td>\n",
              "      <td>4.0000</td>\n",
              "      <td>2.500000</td>\n",
              "      <td>2500.000000</td>\n",
              "      <td>1.123400e+04</td>\n",
              "      <td>2.000000</td>\n",
              "      <td>0.000000</td>\n",
              "      <td>0.000000</td>\n",
              "      <td>4.000000</td>\n",
              "      <td>8.000000</td>\n",
              "      <td>2130.000000</td>\n",
              "      <td>1990.000000</td>\n",
              "      <td>0.000000</td>\n",
              "      <td>98118.000000</td>\n",
              "      <td>47.679200</td>\n",
              "      <td>-122.129000</td>\n",
              "      <td>2340.00000</td>\n",
              "      <td>10469.250000</td>\n",
              "    </tr>\n",
              "    <tr>\n",
              "      <th>max</th>\n",
              "      <td>9.842300e+09</td>\n",
              "      <td>7.060000e+06</td>\n",
              "      <td>9.0000</td>\n",
              "      <td>6.750000</td>\n",
              "      <td>10040.000000</td>\n",
              "      <td>1.651359e+06</td>\n",
              "      <td>3.500000</td>\n",
              "      <td>1.000000</td>\n",
              "      <td>4.000000</td>\n",
              "      <td>5.000000</td>\n",
              "      <td>13.000000</td>\n",
              "      <td>7680.000000</td>\n",
              "      <td>2015.000000</td>\n",
              "      <td>2015.000000</td>\n",
              "      <td>98199.000000</td>\n",
              "      <td>47.777600</td>\n",
              "      <td>-121.315000</td>\n",
              "      <td>5790.00000</td>\n",
              "      <td>434728.000000</td>\n",
              "    </tr>\n",
              "  </tbody>\n",
              "</table>\n",
              "</div>"
            ],
            "text/plain": [
              "                 id         price   bedrooms    bathrooms   sqft_living  \\\n",
              "count  5.000000e+03  5.000000e+03  5000.0000  5000.000000   5000.000000   \n",
              "mean   4.630823e+09  5.394699e+05     3.3714     2.062150   2061.036800   \n",
              "std    2.870890e+09  3.873115e+05     0.9104     0.773592    923.727509   \n",
              "min    1.000102e+06  7.500000e+04     0.0000     0.000000    380.000000   \n",
              "25%    2.154075e+09  3.179062e+05     3.0000     1.500000   1410.000000   \n",
              "50%    4.022900e+09  4.490000e+05     3.0000     2.000000   1890.000000   \n",
              "75%    7.345078e+09  6.500000e+05     4.0000     2.500000   2500.000000   \n",
              "max    9.842300e+09  7.060000e+06     9.0000     6.750000  10040.000000   \n",
              "\n",
              "           sqft_lot       floors   waterfront         view    condition  \\\n",
              "count  5.000000e+03  5000.000000  5000.000000  5000.000000  5000.000000   \n",
              "mean   1.615893e+04     1.432600     0.009400     0.243000     3.455000   \n",
              "std    4.600220e+04     0.510793     0.096506     0.774643     0.677692   \n",
              "min    6.090000e+02     1.000000     0.000000     0.000000     1.000000   \n",
              "25%    5.400000e+03     1.000000     0.000000     0.000000     3.000000   \n",
              "50%    7.875000e+03     1.000000     0.000000     0.000000     3.000000   \n",
              "75%    1.123400e+04     2.000000     0.000000     0.000000     4.000000   \n",
              "max    1.651359e+06     3.500000     1.000000     4.000000     5.000000   \n",
              "\n",
              "             grade   sqft_above     yr_built  yr_renovated       zipcode  \\\n",
              "count  5000.000000  5000.000000  5000.000000   5000.000000   5000.000000   \n",
              "mean      7.595200  1753.151000  1966.660800     95.052800  98078.812600   \n",
              "std       1.166537   818.390844    28.286855    425.234932     54.126332   \n",
              "min       3.000000   380.000000  1900.000000      0.000000  98001.000000   \n",
              "25%       7.000000  1190.000000  1949.000000      0.000000  98033.000000   \n",
              "50%       7.000000  1530.000000  1968.000000      0.000000  98070.000000   \n",
              "75%       8.000000  2130.000000  1990.000000      0.000000  98118.000000   \n",
              "max      13.000000  7680.000000  2015.000000   2015.000000  98199.000000   \n",
              "\n",
              "               lat         long  sqft_living15     sqft_lot15  \n",
              "count  5000.000000  5000.000000     5000.00000    5000.000000  \n",
              "mean     47.559312  -122.215864     1976.84520   13451.164600  \n",
              "std       0.139521     0.141807      674.73601   26514.749009  \n",
              "min      47.155900  -122.514000      620.00000     660.000000  \n",
              "25%      47.463675  -122.329000     1490.00000    5391.500000  \n",
              "50%      47.572850  -122.235000     1820.00000    7800.000000  \n",
              "75%      47.679200  -122.129000     2340.00000   10469.250000  \n",
              "max      47.777600  -121.315000     5790.00000  434728.000000  "
            ]
          },
          "metadata": {
            "tags": []
          },
          "execution_count": 4
        }
      ]
    },
    {
      "cell_type": "markdown",
      "metadata": {
        "id": "QD_0R4JVD3Qw",
        "nbgrader": {
          "grade": false,
          "grade_id": "cell-9b9bd1b387905904",
          "locked": true,
          "schema_version": 1,
          "solution": false
        }
      },
      "source": [
        "We will start with one variable linear regression by extracting the target column and the `sqft_living` variable from the dataset. We use pandas and select both columns as separate variables and transform them into a numpy array."
      ]
    },
    {
      "cell_type": "code",
      "metadata": {
        "id": "mvxkwWfuD3Qw",
        "nbgrader": {
          "grade": true,
          "grade_id": "cell-c7cd243e8b5fe5aa",
          "locked": false,
          "points": 1,
          "schema_version": 1,
          "solution": true
        }
      },
      "source": [
        "X = df['sqft_living'].values\n",
        "y = df['price'].values"
      ],
      "execution_count": null,
      "outputs": []
    },
    {
      "cell_type": "markdown",
      "metadata": {
        "id": "rHpsQN_uD3Qw",
        "nbgrader": {
          "grade": false,
          "grade_id": "cell-508e7e1a13f9bbe4",
          "locked": true,
          "schema_version": 1,
          "solution": false
        }
      },
      "source": [
        "## Preprocessing\n",
        "\n",
        "As the number of features grows, calculating gradients gets computationally expensive. We can speed this up by normalizing the input data to ensure all values are within the same range. This is especially important for datasets with high standard deviations or differences in the ranges of the attributes. Use [mean normalization](https://en.wikipedia.org/wiki/Feature_scaling) for the fearures (`X`) and the true labels (`y`).\n",
        "\n",
        "Implement the cost function `preprocess`."
      ]
    },
    {
      "cell_type": "code",
      "metadata": {
        "id": "-8FCUZqsD3Qw"
      },
      "source": [
        "def preprocess(X, y):\n",
        "    \"\"\"\n",
        "    Perform mean normalization on the features and true labels.\n",
        "\n",
        "    Input:\n",
        "    - X: Inputs (n features over m instances).\n",
        "    - y: True labels.\n",
        "\n",
        "    Returns a two vales:\n",
        "    - X: The mean normalized inputs.\n",
        "    - y: The mean normalized labels.\n",
        "    \"\"\"\n",
        "    ###########################################################################\n",
        "    # TODO: Implement the normalization function.                             #\n",
        "    ###########################################################################\n",
        "    new_X = X.astype(float)\n",
        "    new_y = y.astype(float)\n",
        "    \n",
        "    # Standardization (Z-score Normalization)\n",
        "    new_X = (X - np.array(np.mean(X, axis = 0))) / np.array(np.std(X, axis = 0))\n",
        "    new_y = (y - np.array(np.mean(y, axis = 0))) / np.array(np.std(y, axis = 0))\n",
        "    # Mean normalization\n",
        "#     new_X = (X - np.array(np.mean(X, axis = 0))) / (np.array(np.max(X, axis = 0)) - np.array(np.min(X, axis = 0)))\n",
        "#     new_y = (y - np.array(np.mean(y, axis = 0))) / (np.array(np.max(y, axis = 0)) - np.array(np.min(y, axis = 0)))\n",
        "\n",
        "    X, y = new_X, new_y\n",
        "    pass\n",
        "    ###########################################################################\n",
        "    #                             END OF YOUR CODE                            #\n",
        "    ###########################################################################\n",
        "    return X, y"
      ],
      "execution_count": null,
      "outputs": []
    },
    {
      "cell_type": "code",
      "metadata": {
        "id": "HtQHMxZ3D3Qw",
        "nbgrader": {
          "grade": true,
          "grade_id": "cell-9bb6a28b6b6932fa",
          "locked": false,
          "points": 5,
          "schema_version": 1,
          "solution": true
        },
        "scrolled": false
      },
      "source": [
        "X, y = preprocess(X, y)"
      ],
      "execution_count": null,
      "outputs": []
    },
    {
      "cell_type": "markdown",
      "metadata": {
        "id": "HlIciBdvD3Qw"
      },
      "source": [
        "We will split the data into two datasets: \n",
        "1. The training dataset will contain 80% of the data and will always be used for model training.\n",
        "2. The validation dataset will contain the remaining 20% of the data and will be used for model evaluation. For example, we will pick the best alpha and the best features using the validation dataset, while still training the model using the training dataset."
      ]
    },
    {
      "cell_type": "code",
      "metadata": {
        "id": "dxu90kelD3Qx"
      },
      "source": [
        "# training and validation split\n",
        "np.random.seed(42)\n",
        "indices = np.random.permutation(X.shape[0])\n",
        "idx_train, idx_val = indices[:int(0.8*X.shape[0])], indices[int(0.8*X.shape[0]):]\n",
        "X_train, X_val = X[idx_train], X[idx_val]\n",
        "y_train, y_val = y[idx_train], y[idx_val]"
      ],
      "execution_count": null,
      "outputs": []
    },
    {
      "cell_type": "markdown",
      "metadata": {
        "id": "izvQ4jPjD3Qx",
        "nbgrader": {
          "grade": false,
          "grade_id": "cell-0c168d036748663e",
          "locked": true,
          "schema_version": 1,
          "solution": false
        }
      },
      "source": [
        "## Data Visualization\n",
        "Another useful tool is data visualization. Since this problem has only two parameters, it is possible to create a two-dimensional scatter plot to visualize the data. Note that many real-world datasets are highly dimensional and cannot be visualized naively. We will be using `matplotlib` for all data visualization purposes since it offers a wide range of visualization tools and is easy to use."
      ]
    },
    {
      "cell_type": "code",
      "metadata": {
        "id": "P5ylp27dD3Qx",
        "nbgrader": {
          "grade": false,
          "grade_id": "cell-cbad8871e083093f",
          "locked": true,
          "schema_version": 1,
          "solution": false
        },
        "scrolled": false,
        "outputId": "b0112741-2e6e-441b-ffdb-00af13ef5cd8"
      },
      "source": [
        "plt.plot(X_train, y_train, 'ro', ms=1, mec='k') # the parameters control the size, shape and color of the scatter plot\n",
        "plt.ylabel('Price in USD')\n",
        "plt.xlabel('sq.ft')\n",
        "plt.show()"
      ],
      "execution_count": null,
      "outputs": [
        {
          "output_type": "display_data",
          "data": {
            "image/png": "[encoded data removed]",
            "text/plain": [
              "<Figure size 1008x576 with 1 Axes>"
            ]
          },
          "metadata": {
            "tags": [],
            "needs_background": "light"
          }
        }
      ]
    },
    {
      "cell_type": "markdown",
      "metadata": {
        "id": "TOycW414D3Qx",
        "nbgrader": {
          "grade": false,
          "grade_id": "cell-c50f0a0e569142ed",
          "locked": true,
          "schema_version": 1,
          "solution": false
        }
      },
      "source": [
        "## Bias Trick\n",
        "\n",
        "Make sure that `X` takes into consideration the bias $\\theta_0$ in the linear model. Hint, recall that the predications of our linear model are of the form:\n",
        "\n",
        "$$\n",
        "\\hat{y} = h_\\theta(x) = \\theta^T x = \\theta_0 + \\theta_1 x_1\n",
        "$$\n",
        "\n",
        "Add columns of ones as the zeroth column of the features (do this for both the training and validation sets)."
      ]
    },
    {
      "cell_type": "code",
      "metadata": {
        "id": "-82gf5iqD3Qx",
        "nbgrader": {
          "grade": true,
          "grade_id": "cell-44853962dc1651df",
          "locked": false,
          "points": 2,
          "schema_version": 1,
          "solution": true
        }
      },
      "source": [
        "###########################################################################\n",
        "#                            START OF YOUR CODE                           #\n",
        "###########################################################################\n",
        "bias_pad = np.ones((X_train.shape[0], 2))\n",
        "bias_pad[:, 1] = X_train\n",
        "X_train = bias_pad\n",
        "bias_pad = np.ones((X_val.shape[0], 2))\n",
        "bias_pad[:, 1] = X_val\n",
        "X_val = bias_pad\n",
        "pass\n",
        "###########################################################################\n",
        "#                             END OF YOUR CODE                            #\n",
        "###########################################################################"
      ],
      "execution_count": null,
      "outputs": []
    },
    {
      "cell_type": "markdown",
      "metadata": {
        "id": "knfBvICPD3Qy",
        "nbgrader": {
          "grade": false,
          "grade_id": "cell-c7d7fd68c1b24943",
          "locked": true,
          "schema_version": 1,
          "solution": false
        }
      },
      "source": [
        "## Part 2: Single Variable Linear Regression (40 Points)\n",
        "Simple linear regression is a linear regression model with a single explanatory varaible and a single target value. \n",
        "\n",
        "$$\n",
        "\\hat{y} = h_\\theta(x) = \\theta^T x = \\theta_0 + \\theta_1 x_1\n",
        "$$\n",
        "\n",
        "## Gradient Descent \n",
        "\n",
        "Our task is to find the best possible linear line that explains all the points in our dataset. We start by guessing initial values for the linear regression parameters $\\theta$ and updating the values using gradient descent. \n",
        "\n",
        "The objective of linear regression is to minimize the cost function $J$:\n",
        "\n",
        "$$\n",
        "J(\\theta) = \\frac{1}{2m} \\sum_{i=1}^{n}(h_\\theta(x^{(i)})-y^{(i)})^2\n",
        "$$\n",
        "\n",
        "where the hypothesis (model) $h_\\theta(x)$ is given by a **linear** model:\n",
        "\n",
        "$$\n",
        "h_\\theta(x) = \\theta^T x = \\theta_0 + \\theta_1 x_1\n",
        "$$\n",
        "\n",
        "$\\theta_j$ are parameters of your model. and by changing those values accordingly you will be able to lower the cost function $J(\\theta)$. One way to accopmlish this is to use gradient descent:\n",
        "\n",
        "$$\n",
        "\\theta_j = \\theta_j - \\alpha \\frac{1}{m} \\sum_{i=1}^m (h_\\theta(x^{(i)})-y^{(i)})x_j^{(i)}\n",
        "$$\n",
        "\n",
        "In linear regresion, we know that with each step of gradient descent, the parameters $\\theta_j$ get closer to the optimal values that will achieve the lowest cost $J(\\theta)$."
      ]
    },
    {
      "cell_type": "markdown",
      "metadata": {
        "id": "iyR0KoLsD3Qy",
        "nbgrader": {
          "grade": false,
          "grade_id": "cell-0f83af93c0436542",
          "locked": true,
          "schema_version": 1,
          "solution": false
        }
      },
      "source": [
        "Implement the cost function `compute_cost`. (10 points)"
      ]
    },
    {
      "cell_type": "code",
      "metadata": {
        "id": "fteBCwPID3Qy"
      },
      "source": [
        "def compute_cost(X, y, theta):\n",
        "    \"\"\"\n",
        "    Computes the average squared difference between an obserbation's actual and\n",
        "    predicted values for linear regression.  \n",
        "\n",
        "    Input:\n",
        "    - X: inputs  (n features over m instances).\n",
        "    - y: true labels (1 value over m instances).\n",
        "    - theta: the parameters (weights) of the model being learned.\n",
        "\n",
        "    Returns a single value:\n",
        "    - J: the cost associated with the current set of parameters (single number).\n",
        "    \"\"\"\n",
        "    \n",
        "    J = 0  # Use J for the cost.\n",
        "    ###########################################################################\n",
        "    # TODO: Implement the MSE cost function.                                  #\n",
        "    ###########################################################################\n",
        "    J = np.sum(np.square(np.dot(X, theta) - y)) / (2 * X.shape[0])\n",
        "    pass\n",
        "    ###########################################################################\n",
        "    #                             END OF YOUR CODE                            #\n",
        "    ###########################################################################\n",
        "    return J"
      ],
      "execution_count": null,
      "outputs": []
    },
    {
      "cell_type": "code",
      "metadata": {
        "id": "gkgCw9wQD3Qy",
        "nbgrader": {
          "grade": false,
          "grade_id": "cell-4c1cfec24e144479",
          "locked": true,
          "schema_version": 1,
          "solution": false
        }
      },
      "source": [
        "theta = np.array([-1, 2])\n",
        "J = compute_cost(X_train, y_train, theta)"
      ],
      "execution_count": null,
      "outputs": []
    },
    {
      "cell_type": "markdown",
      "metadata": {
        "id": "5fZ5RPzxD3Qy",
        "nbgrader": {
          "grade": false,
          "grade_id": "cell-afdc527b73d275bb",
          "locked": true,
          "schema_version": 1,
          "solution": false
        }
      },
      "source": [
        "Implement the gradient descent function `gradient_descent`. (10 points)"
      ]
    },
    {
      "cell_type": "code",
      "metadata": {
        "id": "GaoG6uKRD3Qz"
      },
      "source": [
        "def gradient_descent(X, y, theta, alpha, num_iters):\n",
        "    \"\"\"\n",
        "    Learn the parameters of the model using gradient descent using \n",
        "    the *training set*. Gradient descent is an optimization algorithm \n",
        "    used to minimize some (loss) function by iteratively moving in \n",
        "    the direction of steepest descent as defined by the negative of \n",
        "    the gradient. We use gradient descent to update the parameters\n",
        "    (weights) of our model.\n",
        "\n",
        "    Input:\n",
        "    - X: Inputs  (n features over m instances).\n",
        "    - y: True labels (1 value over m instances).\n",
        "    - theta: The parameters (weights) of the model being learned.\n",
        "    - alpha: The learning rate of your model.\n",
        "    - num_iters: The number of updates performed.\n",
        "\n",
        "    Returns two values:\n",
        "    - theta: The learned parameters of your model.\n",
        "    - J_history: the loss value for every iteration.\n",
        "    \"\"\"\n",
        "    \n",
        "    J_history = [] # Use a python list to save cost in every iteration\n",
        "    theta = theta.copy() # avoid changing the original thetas\n",
        "    ###########################################################################\n",
        "    # TODO: Implement the gradient descent optimization algorithm.            #\n",
        "    ###########################################################################\n",
        "    for iteration in range(num_iters):\n",
        "        J_history.append(compute_cost(X, y, theta))\n",
        "        theta = theta - (alpha * (np.dot(np.transpose(X), np.dot(X, theta) - y)) / X.shape[0])\n",
        "    pass\n",
        "    ###########################################################################\n",
        "    #                             END OF YOUR CODE                            #\n",
        "    ###########################################################################\n",
        "    return theta, J_history"
      ],
      "execution_count": null,
      "outputs": []
    },
    {
      "cell_type": "code",
      "metadata": {
        "id": "U2UVrQzJD3Qz",
        "nbgrader": {
          "grade": false,
          "grade_id": "cell-59b95cbea13e7fc1",
          "locked": true,
          "schema_version": 1,
          "solution": false
        }
      },
      "source": [
        "np.random.seed(42)\n",
        "theta = np.random.random(size=2)\n",
        "iterations = 40000\n",
        "alpha = 0.1\n",
        "theta, J_history = gradient_descent(X_train ,y_train, theta, alpha, iterations)"
      ],
      "execution_count": null,
      "outputs": []
    },
    {
      "cell_type": "markdown",
      "metadata": {
        "id": "g2kWsXH4D3Qz",
        "nbgrader": {
          "grade": false,
          "grade_id": "cell-86125cd57f0fdb89",
          "locked": true,
          "schema_version": 1,
          "solution": false
        }
      },
      "source": [
        "You can evaluate the learning process by monitoring the loss as training progress. In the following graph, we visualize the loss as a function of the iterations. This is possible since we are saving the loss value at every iteration in the `J_history` array. This visualization might help you find problems with your code. Notice that since the network converges quickly, we are using logarithmic scale for the number of iterations. "
      ]
    },
    {
      "cell_type": "code",
      "metadata": {
        "id": "Ux_6WhdVD3Qz",
        "nbgrader": {
          "grade": false,
          "grade_id": "cell-a565f1f721f6377f",
          "locked": true,
          "schema_version": 1,
          "solution": false
        },
        "outputId": "b5e6b850-19d0-4ec6-d229-73065932aff0"
      },
      "source": [
        "plt.plot(np.arange(iterations), J_history)\n",
        "plt.xscale('log')\n",
        "plt.xlabel('Iterations')\n",
        "plt.ylabel('Loss')\n",
        "plt.title('Loss as a function of iterations')\n",
        "plt.show()"
      ],
      "execution_count": null,
      "outputs": [
        {
          "output_type": "display_data",
          "data": {
            "image/png": "[encoded data removed]",
            "text/plain": [
              "<Figure size 1008x576 with 1 Axes>"
            ]
          },
          "metadata": {
            "tags": [],
            "needs_background": "light"
          }
        }
      ]
    },
    {
      "cell_type": "markdown",
      "metadata": {
        "id": "U38kbDnDD3Qz",
        "nbgrader": {
          "grade": false,
          "grade_id": "cell-3bdd058ecc5db0eb",
          "locked": true,
          "schema_version": 1,
          "solution": false
        }
      },
      "source": [
        "Implement the pseudo-inverse function `pinv`. **Do not use `np.linalg.pinv`**, instead use only direct matrix multiplication as you saw in class (you can calculate the inverse of a matrix using `np.linalg.inv`). (10 points)"
      ]
    },
    {
      "cell_type": "code",
      "metadata": {
        "id": "FezSaEnXD3Q0"
      },
      "source": [
        "def pinv(X, y):\n",
        "    \"\"\"\n",
        "    Calculate the optimal values of the parameters using the pseudoinverse\n",
        "    approach as you saw in class using the *training set*.\n",
        "\n",
        "    Input:\n",
        "    - X: Inputs  (n features over m instances).\n",
        "    - y: True labels (1 value over m instances).\n",
        "\n",
        "    Returns two values:\n",
        "    - theta: The optimal parameters of your model.\n",
        "\n",
        "    ########## DO NOT USE np.linalg.pinv ##############\n",
        "    \"\"\"\n",
        "    \n",
        "    pinv_theta = []\n",
        "    ###########################################################################\n",
        "    # TODO: Implement the pseudoinverse algorithm.                            #\n",
        "    ###########################################################################\n",
        "    pinv_theta = np.matmul(np.matmul(np.linalg.inv(np.matmul(np.transpose(X), X)), np.transpose(X)), y)\n",
        "    pass\n",
        "    ###########################################################################\n",
        "    #                             END OF YOUR CODE                            #\n",
        "    ###########################################################################\n",
        "    return pinv_theta"
      ],
      "execution_count": null,
      "outputs": []
    },
    {
      "cell_type": "code",
      "metadata": {
        "id": "hD96z2PhD3Q0",
        "nbgrader": {
          "grade": false,
          "grade_id": "cell-ee89ac06af3087ae",
          "locked": true,
          "schema_version": 1,
          "solution": false
        }
      },
      "source": [
        "theta_pinv = pinv(X_train ,y_train)\n",
        "J_pinv = compute_cost(X_train, y_train, theta_pinv)"
      ],
      "execution_count": null,
      "outputs": []
    },
    {
      "cell_type": "markdown",
      "metadata": {
        "id": "onllLdYQD3Q0"
      },
      "source": [
        "We can add the loss value for the theta calculated using the psuedo-inverse to our graph. This is another sanity check as the loss of our model should converge to the psuedo-inverse loss."
      ]
    },
    {
      "cell_type": "code",
      "metadata": {
        "id": "byO2EZCYD3Q0",
        "nbgrader": {
          "grade": false,
          "grade_id": "cell-639b53fc41479335",
          "locked": true,
          "schema_version": 1,
          "solution": false
        },
        "outputId": "aee7e484-63fc-4516-a315-d3cb788b33f2"
      },
      "source": [
        "plt.plot(np.arange(iterations), J_history)\n",
        "plt.xscale('log')\n",
        "plt.xlabel('Iterations')\n",
        "plt.ylabel('Loss')\n",
        "plt.title('Loss as a function of iterations')\n",
        "plt.hlines(y = J_pinv, xmin = 0, xmax = len(J_history), color='r',\n",
        "           linewidth = 1, linestyle = 'dashed')\n",
        "plt.show()"
      ],
      "execution_count": null,
      "outputs": [
        {
          "output_type": "display_data",
          "data": {
            "image/png": "[encoded data removed]",
            "text/plain": [
              "<Figure size 1008x576 with 1 Axes>"
            ]
          },
          "metadata": {
            "tags": [],
            "needs_background": "light"
          }
        }
      ]
    },
    {
      "cell_type": "markdown",
      "metadata": {
        "id": "bIXqPmAGD3Q0",
        "nbgrader": {
          "grade": false,
          "grade_id": "cell-5043aa5363cbe5c9",
          "locked": true,
          "schema_version": 1,
          "solution": false
        }
      },
      "source": [
        "We can use a better approach for the implementation of `gradient_descent`. Instead of performing 40,000 iterations, we wish to stop when the improvement of the loss value is smaller than `1e-8` from one iteration to the next. Implement the function `efficient_gradient_descent`. (5 points)"
      ]
    },
    {
      "cell_type": "code",
      "metadata": {
        "id": "MylavcYkD3Q1"
      },
      "source": [
        "def efficient_gradient_descent(X, y, theta, alpha, num_iters):\n",
        "    \"\"\"\n",
        "    Learn the parameters of your model using the *training set*, but stop \n",
        "    the learning process once the improvement of the loss value is smaller \n",
        "    than 1e-8. This function is very similar to the gradient descent \n",
        "    function you already implemented.\n",
        "\n",
        "    Input:\n",
        "    - X: Inputs  (n features over m instances).\n",
        "    - y: True labels (1 value over m instances).\n",
        "    - theta: The parameters (weights) of the model being learned.\n",
        "    - alpha: The learning rate of your model.\n",
        "    - num_iters: The number of updates performed.\n",
        "\n",
        "    Returns two values:\n",
        "    - theta: The learned parameters of your model.\n",
        "    - J_history: the loss value for every iteration.\n",
        "    \"\"\"\n",
        "    \n",
        "    J_history = [] # Use a python list to save cost in every iteration\n",
        "    theta = theta.copy() # avoid changing the original thetas\n",
        "    ###########################################################################\n",
        "    # TODO: Implement the gradient descent optimization algorithm.            #\n",
        "    ###########################################################################\n",
        "    for iteration in range(num_iters):\n",
        "        J_history.append(compute_cost(X, y, theta))\n",
        "        theta = theta - (alpha * (np.dot(np.transpose(X), np.dot(X, theta) - y)) / X.shape[0])\n",
        "        if (len(J_history) >= 2) and (J_history[-2] - J_history[-1] < 1e-8):\n",
        "            break\n",
        "    pass\n",
        "    ###########################################################################\n",
        "    #                             END OF YOUR CODE                            #\n",
        "    ###########################################################################\n",
        "    return theta, J_history"
      ],
      "execution_count": null,
      "outputs": []
    },
    {
      "cell_type": "markdown",
      "metadata": {
        "id": "0ToTNDJ6D3Q1",
        "nbgrader": {
          "grade": false,
          "grade_id": "cell-6e2524d07523d950",
          "locked": true,
          "schema_version": 1,
          "solution": false
        }
      },
      "source": [
        "The learning rate is another factor that determines the performance of our model in terms of speed and accuracy. Complete the function `find_best_alpha`. Make sure you use the training dataset to learn the parameters (thetas) and use those parameters with the validation dataset to compute the cost."
      ]
    },
    {
      "cell_type": "code",
      "metadata": {
        "id": "lEIClDxnD3Q1"
      },
      "source": [
        "def find_best_alpha(X_train, y_train, X_val, y_val, iterations):\n",
        "    \"\"\"\n",
        "    Iterate over provided values of alpha and train a model using the \n",
        "    *training* dataset. maintain a python dictionary with alpha as the \n",
        "    key and the loss on the *validation* set as the value.\n",
        "\n",
        "    Input:\n",
        "    - X_train, y_train, X_val, y_val: the training and validation data\n",
        "    - iterations: maximum number of iterations\n",
        "\n",
        "    Returns:\n",
        "    - alpha_dict: A python dictionary - {key (alpha) : value (validation loss)}\n",
        "    \"\"\"\n",
        "    \n",
        "    alphas = [0.00001, 0.00003, 0.0001, 0.0003, 0.001, 0.003, 0.01, 0.03, 0.1, 0.3, 1, 2, 3]\n",
        "    alpha_dict = {}\n",
        "    ###########################################################################\n",
        "    # TODO: Implement the function.                                           #\n",
        "    ###########################################################################\n",
        "    np.random.seed(42)\n",
        "    init_theta = np.random.random(size = X_train.shape[1])\n",
        "    for alpha in alphas:\n",
        "        theta = init_theta\n",
        "        #As Alon wrote in the Piazza (@86) - we use the efficient version of GD:\n",
        "        theta, train_loss = efficient_gradient_descent(X_train, y_train, theta, alpha, iterations)\n",
        "        alpha_dict[alpha] = compute_cost(X_val, y_val, theta)\n",
        "    pass\n",
        "    ###########################################################################\n",
        "    #                             END OF YOUR CODE                            #\n",
        "    ###########################################################################\n",
        "    return alpha_dict"
      ],
      "execution_count": null,
      "outputs": []
    },
    {
      "cell_type": "code",
      "metadata": {
        "id": "Ry_ZVFsdD3Q1",
        "nbgrader": {
          "grade": false,
          "grade_id": "cell-a8b088fe7a10910a",
          "locked": true,
          "schema_version": 1,
          "solution": false
        }
      },
      "source": [
        "alpha_dict = find_best_alpha(X_train, y_train, X_val, y_val, 40000)"
      ],
      "execution_count": null,
      "outputs": []
    },
    {
      "cell_type": "markdown",
      "metadata": {
        "id": "9cwKIceXD3Q1",
        "nbgrader": {
          "grade": false,
          "grade_id": "cell-5bd93130c022d3e1",
          "locked": true,
          "schema_version": 1,
          "solution": false
        }
      },
      "source": [
        "Obtain the best learning rate from the dictionary `alpha_dict`. This can be done in a single line using built-in functions."
      ]
    },
    {
      "cell_type": "code",
      "metadata": {
        "id": "7JuOY4U1D3Q1",
        "nbgrader": {
          "grade": false,
          "grade_id": "cell-4f81cf375ac46b73",
          "locked": false,
          "schema_version": 1,
          "solution": true
        },
        "outputId": "0607c376-6aca-4bcf-dfd2-900e90a2fbec"
      },
      "source": [
        "best_alpha = None\n",
        "###########################################################################\n",
        "#                            START OF YOUR CODE                           #\n",
        "###########################################################################\n",
        "best_alpha = min(alpha_dict.keys(), key = (lambda k: alpha_dict[k]))\n",
        "pass\n",
        "###########################################################################\n",
        "#                             END OF YOUR CODE                            #\n",
        "###########################################################################\n",
        "print(best_alpha)"
      ],
      "execution_count": null,
      "outputs": [
        {
          "output_type": "stream",
          "text": [
            "1\n"
          ],
          "name": "stdout"
        }
      ]
    },
    {
      "cell_type": "markdown",
      "metadata": {
        "id": "dbKQnP08D3Q1",
        "nbgrader": {
          "grade": false,
          "grade_id": "cell-d16367ecb7183996",
          "locked": true,
          "schema_version": 1,
          "solution": false
        }
      },
      "source": [
        "Pick the best three alpha values you just calculated and provide **one** graph with three lines indicating the training loss as a function of iterations (Use 10,000 iterations). Note you are required to provide general code for this purpose (no hard-coding). Make sure the visualization is clear and informative. (5 points)"
      ]
    },
    {
      "cell_type": "code",
      "metadata": {
        "id": "voGWEQFRD3Q2",
        "nbgrader": {
          "grade": true,
          "grade_id": "cell-448638e817503ca3",
          "locked": false,
          "points": 0,
          "schema_version": 1,
          "solution": true
        },
        "outputId": "d84b95fe-0cf1-4145-e4c7-2457f12fe1a3"
      },
      "source": [
        "###########################################################################\n",
        "#                            START OF YOUR CODE                           #\n",
        "###########################################################################\n",
        "alpha_dict_selection = alpha_dict.copy()\n",
        "bset_alphas = []\n",
        "train_loss_best = []\n",
        "np.random.seed(42)\n",
        "init_theta = np.random.random(size = 2)\n",
        "for i in range(3):\n",
        "    bset_alphas.append(min(alpha_dict_selection.keys(), key = (lambda k: alpha_dict_selection[k])))\n",
        "    del alpha_dict_selection[bset_alphas[-1]]\n",
        "    _, temp = efficient_gradient_descent(X_train, y_train, init_theta, bset_alphas[-1], 10000)\n",
        "    train_loss_best.append(temp)\n",
        "    plt.plot(np.arange(len(train_loss_best[-1])), train_loss_best[-1], label = \"best \" + str(i + 1) + \"= \" + str(bset_alphas[-1]))\n",
        "plt.xscale('log')\n",
        "plt.xlabel('Iterations')\n",
        "plt.ylabel('Loss')\n",
        "plt.title('Loss as a function of iterations - for best 3 alphas')\n",
        "plt.legend()\n",
        "plt.show()\n",
        "pass\n",
        "###########################################################################\n",
        "#                             END OF YOUR CODE                            #\n",
        "###########################################################################"
      ],
      "execution_count": null,
      "outputs": [
        {
          "output_type": "display_data",
          "data": {
            "image/png": "[encoded data removed]",
            "text/plain": [
              "<Figure size 1008x576 with 1 Axes>"
            ]
          },
          "metadata": {
            "tags": [],
            "needs_background": "light"
          }
        }
      ]
    },
    {
      "cell_type": "markdown",
      "metadata": {
        "id": "x-9PH_0-D3Q2",
        "nbgrader": {
          "grade": false,
          "grade_id": "cell-b73893d236bff1d5",
          "locked": true,
          "schema_version": 1,
          "solution": false
        }
      },
      "source": [
        "This is yet another sanity check. This function plots the regression lines of your model and the model based on the pseudoinverse calculation. Both models should exhibit the same trend through the data. "
      ]
    },
    {
      "cell_type": "code",
      "metadata": {
        "id": "rJ0dV-ihD3Q2",
        "nbgrader": {
          "grade": false,
          "grade_id": "cell-c7ee7d8763464371",
          "locked": true,
          "schema_version": 1,
          "solution": false
        },
        "outputId": "50ad879f-d978-4870-8725-e45e04a30a40"
      },
      "source": [
        "plt.figure(figsize=(7, 7))\n",
        "plt.plot(X_train[:,1], y_train, 'ro', ms=1, mec='k')\n",
        "plt.ylabel('Price in USD')\n",
        "plt.xlabel('sq.ft')\n",
        "plt.plot(X_train[:, 1], np.dot(X_train, theta), 'o')\n",
        "plt.plot(X_train[:, 1], np.dot(X_train, theta_pinv), '-')\n",
        "\n",
        "plt.legend(['Training data', 'Linear regression', 'Best theta']);"
      ],
      "execution_count": null,
      "outputs": [
        {
          "output_type": "display_data",
          "data": {
            "image/png": "[encoded data removed]",
            "text/plain": [
              "<Figure size 504x504 with 1 Axes>"
            ]
          },
          "metadata": {
            "tags": [],
            "needs_background": "light"
          }
        }
      ]
    },
    {
      "cell_type": "markdown",
      "metadata": {
        "id": "BPggAzofD3Q2",
        "nbgrader": {
          "grade": false,
          "grade_id": "cell-e77c602466fab37d",
          "locked": true,
          "schema_version": 1,
          "solution": false
        }
      },
      "source": [
        "## Part 2: Multivariate Linear Regression (30 points)\n",
        "\n",
        "In most cases, you will deal with databases that have more than one feature. It can be as little as two features and up to thousands of features. In those cases, we use a multiple linear regression model. The regression equation is almost the same as the simple linear regression equation:\n",
        "\n",
        "$$\n",
        "\\hat{y} = h_\\theta(\\vec{x}) = \\theta^T \\vec{x} = \\theta_0 + \\theta_1 x_1 + ... + \\theta_n x_n\n",
        "$$\n",
        "\n",
        "\n",
        "If you wrote vectorized code, this part should be straightforward. If your code is not vectorized, you should go back and edit your functions such that they support both multivariate and single variable regression. **Your code should not check the dimensionality of the input before running**."
      ]
    },
    {
      "cell_type": "code",
      "metadata": {
        "id": "C7xEJ0WnD3Q3",
        "nbgrader": {
          "grade": false,
          "grade_id": "cell-15626dda8db26550",
          "locked": true,
          "schema_version": 1,
          "solution": false
        },
        "outputId": "e470f104-99f3-4602-c633-45ba3e7429f5"
      },
      "source": [
        "# Read comma separated data\n",
        "df = pd.read_csv('data.csv')\n",
        "df.head()"
      ],
      "execution_count": null,
      "outputs": [
        {
          "output_type": "execute_result",
          "data": {
            "text/html": [
              "<div>\n",
              "<style scoped>\n",
              "    .dataframe tbody tr th:only-of-type {\n",
              "        vertical-align: middle;\n",
              "    }\n",
              "\n",
              "    .dataframe tbody tr th {\n",
              "        vertical-align: top;\n",
              "    }\n",
              "\n",
              "    .dataframe thead th {\n",
              "        text-align: right;\n",
              "    }\n",
              "</style>\n",
              "<table border=\"1\" class=\"dataframe\">\n",
              "  <thead>\n",
              "    <tr style=\"text-align: right;\">\n",
              "      <th></th>\n",
              "      <th>id</th>\n",
              "      <th>date</th>\n",
              "      <th>price</th>\n",
              "      <th>bedrooms</th>\n",
              "      <th>bathrooms</th>\n",
              "      <th>sqft_living</th>\n",
              "      <th>sqft_lot</th>\n",
              "      <th>floors</th>\n",
              "      <th>waterfront</th>\n",
              "      <th>view</th>\n",
              "      <th>condition</th>\n",
              "      <th>grade</th>\n",
              "      <th>sqft_above</th>\n",
              "      <th>yr_built</th>\n",
              "      <th>yr_renovated</th>\n",
              "      <th>zipcode</th>\n",
              "      <th>lat</th>\n",
              "      <th>long</th>\n",
              "      <th>sqft_living15</th>\n",
              "      <th>sqft_lot15</th>\n",
              "    </tr>\n",
              "  </thead>\n",
              "  <tbody>\n",
              "    <tr>\n",
              "      <th>0</th>\n",
              "      <td>7129300520</td>\n",
              "      <td>20141013T000000</td>\n",
              "      <td>221900.0</td>\n",
              "      <td>3</td>\n",
              "      <td>1.00</td>\n",
              "      <td>1180</td>\n",
              "      <td>5650</td>\n",
              "      <td>1.0</td>\n",
              "      <td>0</td>\n",
              "      <td>0</td>\n",
              "      <td>3</td>\n",
              "      <td>7</td>\n",
              "      <td>1180</td>\n",
              "      <td>1955</td>\n",
              "      <td>0</td>\n",
              "      <td>98178</td>\n",
              "      <td>47.5112</td>\n",
              "      <td>-122.257</td>\n",
              "      <td>1340</td>\n",
              "      <td>5650</td>\n",
              "    </tr>\n",
              "    <tr>\n",
              "      <th>1</th>\n",
              "      <td>6414100192</td>\n",
              "      <td>20141209T000000</td>\n",
              "      <td>538000.0</td>\n",
              "      <td>3</td>\n",
              "      <td>2.25</td>\n",
              "      <td>2570</td>\n",
              "      <td>7242</td>\n",
              "      <td>2.0</td>\n",
              "      <td>0</td>\n",
              "      <td>0</td>\n",
              "      <td>3</td>\n",
              "      <td>7</td>\n",
              "      <td>2170</td>\n",
              "      <td>1951</td>\n",
              "      <td>1991</td>\n",
              "      <td>98125</td>\n",
              "      <td>47.7210</td>\n",
              "      <td>-122.319</td>\n",
              "      <td>1690</td>\n",
              "      <td>7639</td>\n",
              "    </tr>\n",
              "    <tr>\n",
              "      <th>2</th>\n",
              "      <td>5631500400</td>\n",
              "      <td>20150225T000000</td>\n",
              "      <td>180000.0</td>\n",
              "      <td>2</td>\n",
              "      <td>1.00</td>\n",
              "      <td>770</td>\n",
              "      <td>10000</td>\n",
              "      <td>1.0</td>\n",
              "      <td>0</td>\n",
              "      <td>0</td>\n",
              "      <td>3</td>\n",
              "      <td>6</td>\n",
              "      <td>770</td>\n",
              "      <td>1933</td>\n",
              "      <td>0</td>\n",
              "      <td>98028</td>\n",
              "      <td>47.7379</td>\n",
              "      <td>-122.233</td>\n",
              "      <td>2720</td>\n",
              "      <td>8062</td>\n",
              "    </tr>\n",
              "    <tr>\n",
              "      <th>3</th>\n",
              "      <td>2487200875</td>\n",
              "      <td>20141209T000000</td>\n",
              "      <td>604000.0</td>\n",
              "      <td>4</td>\n",
              "      <td>3.00</td>\n",
              "      <td>1960</td>\n",
              "      <td>5000</td>\n",
              "      <td>1.0</td>\n",
              "      <td>0</td>\n",
              "      <td>0</td>\n",
              "      <td>5</td>\n",
              "      <td>7</td>\n",
              "      <td>1050</td>\n",
              "      <td>1965</td>\n",
              "      <td>0</td>\n",
              "      <td>98136</td>\n",
              "      <td>47.5208</td>\n",
              "      <td>-122.393</td>\n",
              "      <td>1360</td>\n",
              "      <td>5000</td>\n",
              "    </tr>\n",
              "    <tr>\n",
              "      <th>4</th>\n",
              "      <td>1954400510</td>\n",
              "      <td>20150218T000000</td>\n",
              "      <td>510000.0</td>\n",
              "      <td>3</td>\n",
              "      <td>2.00</td>\n",
              "      <td>1680</td>\n",
              "      <td>8080</td>\n",
              "      <td>1.0</td>\n",
              "      <td>0</td>\n",
              "      <td>0</td>\n",
              "      <td>3</td>\n",
              "      <td>8</td>\n",
              "      <td>1680</td>\n",
              "      <td>1987</td>\n",
              "      <td>0</td>\n",
              "      <td>98074</td>\n",
              "      <td>47.6168</td>\n",
              "      <td>-122.045</td>\n",
              "      <td>1800</td>\n",
              "      <td>7503</td>\n",
              "    </tr>\n",
              "  </tbody>\n",
              "</table>\n",
              "</div>"
            ],
            "text/plain": [
              "           id             date     price  bedrooms  bathrooms  sqft_living  \\\n",
              "0  7129300520  20141013T000000  221900.0         3       1.00         1180   \n",
              "1  6414100192  20141209T000000  538000.0         3       2.25         2570   \n",
              "2  5631500400  20150225T000000  180000.0         2       1.00          770   \n",
              "3  2487200875  20141209T000000  604000.0         4       3.00         1960   \n",
              "4  1954400510  20150218T000000  510000.0         3       2.00         1680   \n",
              "\n",
              "   sqft_lot  floors  waterfront  view  condition  grade  sqft_above  yr_built  \\\n",
              "0      5650     1.0           0     0          3      7        1180      1955   \n",
              "1      7242     2.0           0     0          3      7        2170      1951   \n",
              "2     10000     1.0           0     0          3      6         770      1933   \n",
              "3      5000     1.0           0     0          5      7        1050      1965   \n",
              "4      8080     1.0           0     0          3      8        1680      1987   \n",
              "\n",
              "   yr_renovated  zipcode      lat     long  sqft_living15  sqft_lot15  \n",
              "0             0    98178  47.5112 -122.257           1340        5650  \n",
              "1          1991    98125  47.7210 -122.319           1690        7639  \n",
              "2             0    98028  47.7379 -122.233           2720        8062  \n",
              "3             0    98136  47.5208 -122.393           1360        5000  \n",
              "4             0    98074  47.6168 -122.045           1800        7503  "
            ]
          },
          "metadata": {
            "tags": []
          },
          "execution_count": 25
        }
      ]
    },
    {
      "cell_type": "markdown",
      "metadata": {
        "id": "rDOteBL9D3Q3",
        "nbgrader": {
          "grade": false,
          "grade_id": "cell-2dc0f4dc3491520c",
          "locked": true,
          "schema_version": 1,
          "solution": false
        }
      },
      "source": [
        "## Preprocessing\n",
        "\n",
        "Like in the single variable case, we need to create a numpy array from the dataframe. Before doing so, we should notice that some of the features are clearly irrelevant."
      ]
    },
    {
      "cell_type": "code",
      "metadata": {
        "id": "js143uOgD3Q3",
        "nbgrader": {
          "grade": true,
          "grade_id": "cell-a87b4027bd3bda4b",
          "locked": false,
          "points": 0,
          "schema_version": 1,
          "solution": true
        }
      },
      "source": [
        "X = df.drop(columns=['price', 'id', 'date']).values\n",
        "y = df['price'].values"
      ],
      "execution_count": null,
      "outputs": []
    },
    {
      "cell_type": "markdown",
      "metadata": {
        "id": "XM2W7l0HD3Q3",
        "nbgrader": {
          "grade": false,
          "grade_id": "cell-1aa12f54513b1efa",
          "locked": true,
          "schema_version": 1,
          "solution": false
        }
      },
      "source": [
        "Use the **same** `preprocess` function you implemented previously. Notice that proper vectorized implementation should work regardless of the dimensionality of the input. You might want to check that your code in the previous parts still works."
      ]
    },
    {
      "cell_type": "code",
      "metadata": {
        "id": "Y_mfzFBLD3Q3",
        "nbgrader": {
          "grade": false,
          "grade_id": "cell-f40a9df530db9399",
          "locked": true,
          "schema_version": 1,
          "solution": false
        }
      },
      "source": [
        "# preprocessing\n",
        "X, y = preprocess(X, y)"
      ],
      "execution_count": null,
      "outputs": []
    },
    {
      "cell_type": "code",
      "metadata": {
        "id": "FG9c4vsZD3Q3"
      },
      "source": [
        "# training and validation split\n",
        "np.random.seed(42)\n",
        "indices = np.random.permutation(X.shape[0])\n",
        "idx_train, idx_val = indices[:int(0.8*X.shape[0])], indices[int(0.8*X.shape[0]):]\n",
        "X_train, X_val = X[idx_train,:], X[idx_val,:]\n",
        "y_train, y_val = y[idx_train], y[idx_val]"
      ],
      "execution_count": null,
      "outputs": []
    },
    {
      "cell_type": "markdown",
      "metadata": {
        "id": "OerOwp9aD3Q3"
      },
      "source": [
        "Using 3D visualization, we can still observe trends in the data. Visualizing additional dimensions requires advanced techniques we will learn later in the course."
      ]
    },
    {
      "cell_type": "code",
      "metadata": {
        "id": "UDJAw9pHD3Q4",
        "nbgrader": {
          "grade": false,
          "grade_id": "cell-0c68216a26a9b5af",
          "locked": true,
          "schema_version": 1,
          "solution": false
        },
        "outputId": "da498958-3245-4b6a-8c79-7eea7046d611"
      },
      "source": [
        "%matplotlib inline\n",
        "import mpl_toolkits.mplot3d.axes3d as p3\n",
        "fig = plt.figure(figsize=(5,5))\n",
        "ax = p3.Axes3D(fig)\n",
        "xx = X_train[:, 1][:1000]\n",
        "yy = X_train[:, 2][:1000]\n",
        "zz = y_train[:1000]\n",
        "ax.scatter(xx, yy, zz, marker='o')\n",
        "ax.set_xlabel('bathrooms')\n",
        "ax.set_ylabel('sqft_living')\n",
        "ax.set_zlabel('price')\n",
        "plt.show()"
      ],
      "execution_count": null,
      "outputs": [
        {
          "output_type": "display_data",
          "data": {
            "image/png": "[encoded data removed]",
            "text/plain": [
              "<Figure size 360x360 with 1 Axes>"
            ]
          },
          "metadata": {
            "tags": [],
            "needs_background": "light"
          }
        }
      ]
    },
    {
      "cell_type": "markdown",
      "metadata": {
        "id": "y-L3fRYeD3Q4",
        "nbgrader": {
          "grade": false,
          "grade_id": "cell-70fcd47d69caea00",
          "locked": true,
          "schema_version": 1,
          "solution": false
        }
      },
      "source": [
        "Use the bias trick again (add a column of ones as the zeroth column in the both the training and validation datasets)."
      ]
    },
    {
      "cell_type": "code",
      "metadata": {
        "id": "eWbVKWDdD3Q4",
        "nbgrader": {
          "grade": true,
          "grade_id": "cell-2985911f4b7af3e1",
          "locked": false,
          "points": 0,
          "schema_version": 1,
          "solution": true
        }
      },
      "source": [
        "###########################################################################\n",
        "#                            START OF YOUR CODE                           #\n",
        "###########################################################################\n",
        "X_train = np.hstack((np.ones((X_train.shape[0], 1)), X_train))\n",
        "X_val = np.hstack((np.ones((X_val.shape[0], 1)), X_val))\n",
        "pass\n",
        "###########################################################################\n",
        "#                             END OF YOUR CODE                            #\n",
        "###########################################################################"
      ],
      "execution_count": null,
      "outputs": []
    },
    {
      "cell_type": "markdown",
      "metadata": {
        "id": "XURQV-adD3Q4",
        "nbgrader": {
          "grade": false,
          "grade_id": "cell-2b89288ff61c80ac",
          "locked": true,
          "schema_version": 1,
          "solution": false
        }
      },
      "source": [
        "Make sure the functions `compute_cost` (10 points), `gradient_descent` (15 points), and `pinv` (5 points) work on the multi-dimensional dataset. If you make any changes, make sure your code still works on the single variable regression model. "
      ]
    },
    {
      "cell_type": "code",
      "metadata": {
        "id": "lXCvHs9lD3Q4",
        "nbgrader": {
          "grade": false,
          "grade_id": "cell-81ab741781b2f6ec",
          "locked": true,
          "schema_version": 1,
          "solution": false
        }
      },
      "source": [
        "shape = X_train.shape[1]\n",
        "theta = np.ones(shape)\n",
        "J = compute_cost(X_train, y_train, theta)"
      ],
      "execution_count": null,
      "outputs": []
    },
    {
      "cell_type": "code",
      "metadata": {
        "id": "oFuE5BpTD3Q4"
      },
      "source": [
        "#As Alon wrote in the Piazza (@81, @98) - we check the best alpha again:\n",
        "alpha_dict = find_best_alpha(X_train, y_train, X_val, y_val, 40000)\n",
        "best_alpha = min(alpha_dict.keys(), key = (lambda k: alpha_dict[k]))"
      ],
      "execution_count": null,
      "outputs": []
    },
    {
      "cell_type": "code",
      "metadata": {
        "id": "B7TzkJCsD3Q4",
        "nbgrader": {
          "grade": false,
          "grade_id": "cell-6f25fb05bd6c648a",
          "locked": true,
          "schema_version": 1,
          "solution": false
        }
      },
      "source": [
        "np.random.seed(42)\n",
        "shape = X_train.shape[1]\n",
        "theta = np.random.random(shape)\n",
        "iterations = 40000\n",
        "theta, J_history = gradient_descent(X_train ,y_train, theta, best_alpha, iterations)"
      ],
      "execution_count": null,
      "outputs": []
    },
    {
      "cell_type": "code",
      "metadata": {
        "id": "us7F-6DxD3Q4",
        "nbgrader": {
          "grade": false,
          "grade_id": "cell-827d1de1293be51f",
          "locked": true,
          "schema_version": 1,
          "solution": false
        }
      },
      "source": [
        "theta_pinv = pinv(X_train ,y_train)\n",
        "J_pinv = compute_cost(X_train, y_train, theta_pinv)"
      ],
      "execution_count": null,
      "outputs": []
    },
    {
      "cell_type": "markdown",
      "metadata": {
        "id": "Mq7yphFTD3Q4"
      },
      "source": [
        "We can use visualization to make sure the code works well. Notice we use logarithmic scale for the number of iterations, since gradient descent converges after ~500 iterations."
      ]
    },
    {
      "cell_type": "code",
      "metadata": {
        "id": "S7vNRGsxD3Q5",
        "nbgrader": {
          "grade": false,
          "grade_id": "cell-4fa207b72d2445c2",
          "locked": true,
          "schema_version": 1,
          "solution": false
        },
        "outputId": "f97c21b5-8235-42a6-b24f-9cc22699ef48"
      },
      "source": [
        "plt.plot(np.arange(iterations), J_history)\n",
        "plt.xscale('log')\n",
        "plt.xlabel('Iterations')\n",
        "plt.ylabel('Loss')\n",
        "plt.title('Loss as a function of iterations - multivariate linear regression')\n",
        "plt.hlines(y = J_pinv, xmin = 0, xmax = len(J_history), color='r',\n",
        "           linewidth = 1, linestyle = 'dashed')\n",
        "plt.show()"
      ],
      "execution_count": null,
      "outputs": [
        {
          "output_type": "display_data",
          "data": {
            "image/png": "[encoded data removed]",
            "text/plain": [
              "<Figure size 432x288 with 1 Axes>"
            ]
          },
          "metadata": {
            "tags": [],
            "needs_background": "light"
          }
        }
      ]
    },
    {
      "cell_type": "markdown",
      "metadata": {
        "id": "TfOK4UucD3Q5",
        "nbgrader": {
          "grade": false,
          "grade_id": "cell-cad652570cee3629",
          "locked": true,
          "schema_version": 1,
          "solution": false
        }
      },
      "source": [
        "## Part 3: Find best features for regression (10 points)\n",
        "\n",
        "Adding additional features to our regression model makes it more complicated but does not necessarily improves performance.\n",
        "Use forward and backward selection and find 4 features that best minimizes the loss. First, we will reload the dataset as a dataframe in order to access the feature names."
      ]
    },
    {
      "cell_type": "code",
      "metadata": {
        "id": "k4CeU4KED3Q5",
        "outputId": "aab2cde6-b1d4-48a2-e1a4-2a65042a8094"
      },
      "source": [
        "columns_to_drop = ['price', 'id', 'date']\n",
        "all_features = df.drop(columns=columns_to_drop)\n",
        "all_features.head(5)"
      ],
      "execution_count": null,
      "outputs": [
        {
          "output_type": "execute_result",
          "data": {
            "text/html": [
              "<div>\n",
              "<style scoped>\n",
              "    .dataframe tbody tr th:only-of-type {\n",
              "        vertical-align: middle;\n",
              "    }\n",
              "\n",
              "    .dataframe tbody tr th {\n",
              "        vertical-align: top;\n",
              "    }\n",
              "\n",
              "    .dataframe thead th {\n",
              "        text-align: right;\n",
              "    }\n",
              "</style>\n",
              "<table border=\"1\" class=\"dataframe\">\n",
              "  <thead>\n",
              "    <tr style=\"text-align: right;\">\n",
              "      <th></th>\n",
              "      <th>bedrooms</th>\n",
              "      <th>bathrooms</th>\n",
              "      <th>sqft_living</th>\n",
              "      <th>sqft_lot</th>\n",
              "      <th>floors</th>\n",
              "      <th>waterfront</th>\n",
              "      <th>view</th>\n",
              "      <th>condition</th>\n",
              "      <th>grade</th>\n",
              "      <th>sqft_above</th>\n",
              "      <th>yr_built</th>\n",
              "      <th>yr_renovated</th>\n",
              "      <th>zipcode</th>\n",
              "      <th>lat</th>\n",
              "      <th>long</th>\n",
              "      <th>sqft_living15</th>\n",
              "      <th>sqft_lot15</th>\n",
              "    </tr>\n",
              "  </thead>\n",
              "  <tbody>\n",
              "    <tr>\n",
              "      <th>0</th>\n",
              "      <td>3</td>\n",
              "      <td>1.00</td>\n",
              "      <td>1180</td>\n",
              "      <td>5650</td>\n",
              "      <td>1.0</td>\n",
              "      <td>0</td>\n",
              "      <td>0</td>\n",
              "      <td>3</td>\n",
              "      <td>7</td>\n",
              "      <td>1180</td>\n",
              "      <td>1955</td>\n",
              "      <td>0</td>\n",
              "      <td>98178</td>\n",
              "      <td>47.5112</td>\n",
              "      <td>-122.257</td>\n",
              "      <td>1340</td>\n",
              "      <td>5650</td>\n",
              "    </tr>\n",
              "    <tr>\n",
              "      <th>1</th>\n",
              "      <td>3</td>\n",
              "      <td>2.25</td>\n",
              "      <td>2570</td>\n",
              "      <td>7242</td>\n",
              "      <td>2.0</td>\n",
              "      <td>0</td>\n",
              "      <td>0</td>\n",
              "      <td>3</td>\n",
              "      <td>7</td>\n",
              "      <td>2170</td>\n",
              "      <td>1951</td>\n",
              "      <td>1991</td>\n",
              "      <td>98125</td>\n",
              "      <td>47.7210</td>\n",
              "      <td>-122.319</td>\n",
              "      <td>1690</td>\n",
              "      <td>7639</td>\n",
              "    </tr>\n",
              "    <tr>\n",
              "      <th>2</th>\n",
              "      <td>2</td>\n",
              "      <td>1.00</td>\n",
              "      <td>770</td>\n",
              "      <td>10000</td>\n",
              "      <td>1.0</td>\n",
              "      <td>0</td>\n",
              "      <td>0</td>\n",
              "      <td>3</td>\n",
              "      <td>6</td>\n",
              "      <td>770</td>\n",
              "      <td>1933</td>\n",
              "      <td>0</td>\n",
              "      <td>98028</td>\n",
              "      <td>47.7379</td>\n",
              "      <td>-122.233</td>\n",
              "      <td>2720</td>\n",
              "      <td>8062</td>\n",
              "    </tr>\n",
              "    <tr>\n",
              "      <th>3</th>\n",
              "      <td>4</td>\n",
              "      <td>3.00</td>\n",
              "      <td>1960</td>\n",
              "      <td>5000</td>\n",
              "      <td>1.0</td>\n",
              "      <td>0</td>\n",
              "      <td>0</td>\n",
              "      <td>5</td>\n",
              "      <td>7</td>\n",
              "      <td>1050</td>\n",
              "      <td>1965</td>\n",
              "      <td>0</td>\n",
              "      <td>98136</td>\n",
              "      <td>47.5208</td>\n",
              "      <td>-122.393</td>\n",
              "      <td>1360</td>\n",
              "      <td>5000</td>\n",
              "    </tr>\n",
              "    <tr>\n",
              "      <th>4</th>\n",
              "      <td>3</td>\n",
              "      <td>2.00</td>\n",
              "      <td>1680</td>\n",
              "      <td>8080</td>\n",
              "      <td>1.0</td>\n",
              "      <td>0</td>\n",
              "      <td>0</td>\n",
              "      <td>3</td>\n",
              "      <td>8</td>\n",
              "      <td>1680</td>\n",
              "      <td>1987</td>\n",
              "      <td>0</td>\n",
              "      <td>98074</td>\n",
              "      <td>47.6168</td>\n",
              "      <td>-122.045</td>\n",
              "      <td>1800</td>\n",
              "      <td>7503</td>\n",
              "    </tr>\n",
              "  </tbody>\n",
              "</table>\n",
              "</div>"
            ],
            "text/plain": [
              "   bedrooms  bathrooms  sqft_living  sqft_lot  floors  waterfront  view  \\\n",
              "0         3       1.00         1180      5650     1.0           0     0   \n",
              "1         3       2.25         2570      7242     2.0           0     0   \n",
              "2         2       1.00          770     10000     1.0           0     0   \n",
              "3         4       3.00         1960      5000     1.0           0     0   \n",
              "4         3       2.00         1680      8080     1.0           0     0   \n",
              "\n",
              "   condition  grade  sqft_above  yr_built  yr_renovated  zipcode      lat  \\\n",
              "0          3      7        1180      1955             0    98178  47.5112   \n",
              "1          3      7        2170      1951          1991    98125  47.7210   \n",
              "2          3      6         770      1933             0    98028  47.7379   \n",
              "3          5      7        1050      1965             0    98136  47.5208   \n",
              "4          3      8        1680      1987             0    98074  47.6168   \n",
              "\n",
              "      long  sqft_living15  sqft_lot15  \n",
              "0 -122.257           1340        5650  \n",
              "1 -122.319           1690        7639  \n",
              "2 -122.233           2720        8062  \n",
              "3 -122.393           1360        5000  \n",
              "4 -122.045           1800        7503  "
            ]
          },
          "metadata": {
            "tags": []
          },
          "execution_count": 36
        }
      ]
    },
    {
      "cell_type": "markdown",
      "metadata": {
        "id": "t36M3qiSD3Q5"
      },
      "source": [
        "### Forward Feature Selection\n",
        "\n",
        "Complete the function `forward_selection`. Train the model using a single feature at a time, and choose the best feature using the validation dataset. Next, check which feature performs best when added to the feature you previously chose. Repeat this process until you reach 4 features + bias. You are free to use any arguments you need."
      ]
    },
    {
      "cell_type": "code",
      "metadata": {
        "id": "iKnuBS4TD3Q5"
      },
      "source": [
        "def forward_selection(X_train, y_train, X_val, y_val, alpha, iterations):\n",
        "    \"\"\"\n",
        "    Train the model using the training set using a single feature. \n",
        "    Choose the best feature according to the validation set. Next, \n",
        "    check which feature performs best when added to the feature\n",
        "    you previously chose. Repeat this process until you reach 4 \n",
        "    features and the bias. Don't forget the bias trick.\n",
        "\n",
        "    Returns:\n",
        "    - The names of the best features using forward selection.\n",
        "    \"\"\"\n",
        "    np.random.seed(42)\n",
        "    best_features = None\n",
        "    ###########################################################################\n",
        "    # TODO: Implement the function.                                           #\n",
        "    ###########################################################################\n",
        "    init_theta = np.random.random(size = X_train.shape[1])\n",
        "    features = all_features.columns.values.tolist()\n",
        "    features_index = list(range(1, X_train.shape[1]))\n",
        "    best_features_index = []\n",
        "    \n",
        "    for iteration in range(4):\n",
        "        best_feature_dict = {}\n",
        "        for j in features_index: \n",
        "            features_list = []\n",
        "            for p in range(len(best_features_index)):\n",
        "                features_list.append(best_features_index[p])\n",
        "            for f in features_index:\n",
        "                if f == j:\n",
        "                    features_list.append(f)\n",
        "            features_list.insert(0,0) #Bias\n",
        "            theta, _ = efficient_gradient_descent(X_train[:, features_list], y_train, init_theta[0:len(features_list)], alpha, iterations)\n",
        "            best_feature_dict[j] = compute_cost(X_val[:, features_list], y_val, theta)\n",
        "        best_feature_num = min(best_feature_dict.keys(), key = (lambda k: best_feature_dict[k]))\n",
        "        best_features_index.append(best_feature_num)\n",
        "        features_index.remove(best_feature_num)\n",
        "        features_list.append(best_feature_num)\n",
        "        \n",
        "    best_features = []\n",
        "    for k in range(4):\n",
        "        best_features.append(features[best_features_index[k] - 1])\n",
        "    pass\n",
        "    ###########################################################################\n",
        "    #                             END OF YOUR CODE                            #\n",
        "    ###########################################################################\n",
        "    return best_features"
      ],
      "execution_count": null,
      "outputs": []
    },
    {
      "cell_type": "code",
      "metadata": {
        "id": "_hp3iTJlD3Q5",
        "outputId": "6abc4cc5-e35d-4f31-959d-8ff83d5bbd11"
      },
      "source": [
        "print(forward_selection(X_train, y_train, X_val, y_val, best_alpha, 40000))"
      ],
      "execution_count": null,
      "outputs": [
        {
          "output_type": "stream",
          "text": [
            "['sqft_living', 'lat', 'waterfront', 'grade']\n"
          ],
          "name": "stdout"
        }
      ]
    },
    {
      "cell_type": "markdown",
      "metadata": {
        "id": "RuhoW-iQD3Q6"
      },
      "source": [
        "### Backward Feature Selection\n",
        "\n",
        "Complete the function `backward_selection`. Train the model with all but one of the features at a time and remove the worst feature (the feature that its absence yields the best loss value using the validation dataset). Next, remove an additional feature along with the feature you previously removed. Repeat this process until you reach 4 features + bias. You are free to use any arguments you need."
      ]
    },
    {
      "cell_type": "code",
      "metadata": {
        "id": "Ha_MB3r1D3Q6"
      },
      "source": [
        "def backward_selection(X_train, y_train, X_val, y_val, alpha, iterations):\n",
        "    \"\"\"\n",
        "    Train the model using the training set using all but one of the \n",
        "    features at a time. Remove the worst feature according to the \n",
        "    validation set. Next, remove an additional feature along with the \n",
        "    feature you previously removed. Repeat this process until you \n",
        "    reach 4 features and the bias. Don't forget the bias trick.\n",
        "\n",
        "    Returns:\n",
        "    - The names of the best features using backward selection.\n",
        "    \"\"\"\n",
        "    np.random.seed(42)\n",
        "    best_features = None\n",
        "    ###########################################################################\n",
        "    # TODO: Implement the function.                                           #\n",
        "    ###########################################################################\n",
        "    init_theta = np.random.random(size = X_train.shape[1])\n",
        "    features = all_features.columns.values.tolist()\n",
        "    features_index = list(range(1, X_train.shape[1]))\n",
        "\n",
        "    for iteration in range(X_train.shape[1], 5, -1):\n",
        "        best_feature_dict = {}\n",
        "        for j in features_index: \n",
        "            features_list = [x for x in features_index if x != j] \n",
        "            features_list.insert(0,0) #Bias\n",
        "            theta, _ = efficient_gradient_descent(X_train[:, features_list], y_train, init_theta[0:iteration - 1], alpha, iterations)\n",
        "            best_feature_dict[j] = compute_cost(X_val[:, features_list], y_val, theta)\n",
        "        worst_feature_num = min(best_feature_dict.keys(), key = (lambda k: best_feature_dict[k]))\n",
        "        features_index.remove(worst_feature_num)\n",
        "    best_features = []\n",
        "    for k in range(4):\n",
        "        best_features.append(features[features_index[k] - 1])\n",
        "    pass\n",
        "    ###########################################################################\n",
        "    #                             END OF YOUR CODE                            #\n",
        "    ###########################################################################\n",
        "    return best_features"
      ],
      "execution_count": null,
      "outputs": []
    },
    {
      "cell_type": "code",
      "metadata": {
        "id": "fq2l2E0BD3Q6",
        "outputId": "b258ce48-4dcb-4c3c-fcb6-b1538162e87e"
      },
      "source": [
        "print(backward_selection(X_train, y_train, X_val, y_val, best_alpha, 40000))"
      ],
      "execution_count": null,
      "outputs": [
        {
          "output_type": "stream",
          "text": [
            "['sqft_living', 'waterfront', 'grade', 'lat']\n"
          ],
          "name": "stdout"
        }
      ]
    },
    {
      "cell_type": "markdown",
      "metadata": {
        "id": "DhBIe5DKD3Q7"
      },
      "source": [
        "Give an explanations to the results. Do they make sense?\n"
      ]
    },
    {
      "cell_type": "markdown",
      "metadata": {
        "id": "hbuVq4g4D3Q7"
      },
      "source": [
        "### Use this Markdown cell for your answer:\n",
        "Both the Forward Feature Selection and the Backward Feature Selection provided the same answer: the 4 features that enables best performance over the data are grade, lat, sqft living and waterfront. Even though we are using different methods (forward and backward) we are expecting to get same results - best 4 feature - as we indeed got. So the results do make sense.\n",
        "\n",
        "The results seem good to us because it makes sense that the first feature would be a sqft living, the score in general given to the property and if it close to the sea, the latitude sounded less reasonable than the property condition but it turned out better, the best indication that our model is good is that there are no results that are linear depending (different size measurement we have as featuers)."
      ]
    },
    {
      "cell_type": "markdown",
      "metadata": {
        "id": "9n1uKr9yD3Q7"
      },
      "source": [
        "## Part 4: Adaptive Learning Rate (10 points)\n",
        "\n",
        "So far, we kept the learning rate alpha constant during training. However, changing alpha during training might improve convergence in terms of the global minimum found and running time. Implement the adaptive learning rate method based on the gradient descent algorithm above. \n",
        "\n",
        "**Your task is to find proper hyper-parameter values for the adaptive technique and compare this technique to the constant learning rate. Use clear visualizations of the validation loss and the learning rate as a function of the iteration**. \n",
        "\n",
        "Time based decay: this method reduces the learning rate every iteration according to the following formula:\n",
        "\n",
        "$$\\alpha = \\frac{\\alpha_0}{1 + D \\cdot t}$$\n",
        "\n",
        "Where $\\alpha_0$ is the original learning rate, $D$ is a decay factor and $t$ is the current iteration."
      ]
    },
    {
      "cell_type": "code",
      "metadata": {
        "id": "vFFq93wkD3Q7",
        "outputId": "0e370973-51fe-46a7-92fd-93deb9cebe2a"
      },
      "source": [
        "Ds = [0.0001, 0.0003, 0.001, 0.003]\n",
        "alphas = [0.01, 0.03, 0.1, 0.3]\n",
        "np.random.seed(42) \n",
        "init_theta = np.random.random(size = X_train.shape[1])\n",
        "plt.figure(figsize=(10, 10))\n",
        "for D in Ds:\n",
        "    for i_alpha in alphas:\n",
        "        adaptive_alpha_J_history = [] # Use a python list to save cost in every iteration\n",
        "        theta = init_theta\n",
        "        for iteration in range(40000):\n",
        "            alpha = (i_alpha) / (1 + (D * iteration))\n",
        "            adaptive_alpha_J_history.append(compute_cost(X_val, y_val, theta))\n",
        "            theta = theta - (alpha * (np.dot(np.transpose(X_train), np.dot(X_train, theta) - y_train)) / X_train.shape[0])\n",
        "        plt.plot(np.arange(iterations), adaptive_alpha_J_history, label = \"D=\" + str(D) + \", alpha=\" + str(i_alpha))\n",
        "\n",
        "plt.plot(np.arange(iterations), J_history, label = \"original GD\")\n",
        "plt.xscale('log')\n",
        "plt.xlabel('Iterations')\n",
        "plt.ylabel('Loss')\n",
        "plt.title('Loss as a function of iterations - multivariate linear regression - adaptive alpha GD')\n",
        "plt.legend()\n",
        "plt.show()"
      ],
      "execution_count": null,
      "outputs": [
        {
          "output_type": "display_data",
          "data": {
            "image/png": "[encoded data removed]",
            "text/plain": [
              "<Figure size 720x720 with 1 Axes>"
            ]
          },
          "metadata": {
            "tags": [],
            "needs_background": "light"
          }
        }
      ]
    },
    {
      "cell_type": "markdown",
      "metadata": {
        "id": "pDL6pE7dubPt"
      },
      "source": [
        "We can observe that best performance is gained using Adaptive Learning Rate, where the original learning rate is $\\alpha_0$ = 0.3 and the decay factor is $D$ = 0.003."
      ]
    }
  ]
}